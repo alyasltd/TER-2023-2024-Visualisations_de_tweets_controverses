{
 "cells": [
  {
   "cell_type": "code",
   "execution_count": 1,
   "metadata": {},
   "outputs": [],
   "source": [
    "#Source du code\n",
    "#https://larevueia.fr/latent-dirichlet-allocation-topic-modeling-en-python/\n"
   ]
  },
  {
   "cell_type": "code",
   "execution_count": 2,
   "metadata": {},
   "outputs": [],
   "source": [
    "#Import de pandas\n",
    "import pandas as pd"
   ]
  },
  {
   "cell_type": "code",
   "execution_count": 4,
   "metadata": {},
   "outputs": [
    {
     "name": "stdout",
     "output_type": "stream",
     "text": [
      "Requirement already satisfied: nltk in c:\\users\\user\\appdata\\local\\programs\\python\\python311\\lib\\site-packages (3.8.1)\n",
      "Requirement already satisfied: click in c:\\users\\user\\appdata\\local\\programs\\python\\python311\\lib\\site-packages (from nltk) (8.1.7)\n",
      "Requirement already satisfied: joblib in c:\\users\\user\\appdata\\local\\programs\\python\\python311\\lib\\site-packages (from nltk) (1.3.2)\n",
      "Requirement already satisfied: regex>=2021.8.3 in c:\\users\\user\\appdata\\local\\programs\\python\\python311\\lib\\site-packages (from nltk) (2023.10.3)\n",
      "Requirement already satisfied: tqdm in c:\\users\\user\\appdata\\local\\programs\\python\\python311\\lib\\site-packages (from nltk) (4.65.0)\n",
      "Requirement already satisfied: colorama in c:\\users\\user\\appdata\\local\\programs\\python\\python311\\lib\\site-packages (from click->nltk) (0.4.6)\n",
      "Collecting gensim\n",
      "  Using cached gensim-4.3.2-cp311-cp311-win_amd64.whl.metadata (8.5 kB)\n",
      "Requirement already satisfied: numpy>=1.18.5 in c:\\users\\user\\appdata\\local\\programs\\python\\python311\\lib\\site-packages (from gensim) (1.24.3)\n",
      "Requirement already satisfied: scipy>=1.7.0 in c:\\users\\user\\appdata\\local\\programs\\python\\python311\\lib\\site-packages (from gensim) (1.10.1)\n",
      "Collecting smart-open>=1.8.1 (from gensim)\n",
      "  Using cached smart_open-6.4.0-py3-none-any.whl.metadata (21 kB)\n",
      "Downloading gensim-4.3.2-cp311-cp311-win_amd64.whl (24.0 MB)\n",
      "   ---------------------------------------- 0.0/24.0 MB ? eta -:--:--\n",
      "   ---------------------------------------- 0.0/24.0 MB ? eta -:--:--\n",
      "   ---------------------------------------- 0.1/24.0 MB 1.1 MB/s eta 0:00:22\n",
      "   ---------------------------------------- 0.1/24.0 MB 1.2 MB/s eta 0:00:20\n",
      "   ---------------------------------------- 0.3/24.0 MB 1.8 MB/s eta 0:00:14\n",
      "    --------------------------------------- 0.5/24.0 MB 2.3 MB/s eta 0:00:11\n",
      "   - -------------------------------------- 0.7/24.0 MB 3.0 MB/s eta 0:00:08\n",
      "   - -------------------------------------- 1.0/24.0 MB 3.3 MB/s eta 0:00:08\n",
      "   - -------------------------------------- 1.2/24.0 MB 3.5 MB/s eta 0:00:07\n",
      "   -- ------------------------------------- 1.2/24.0 MB 3.2 MB/s eta 0:00:08\n",
      "   -- ------------------------------------- 1.6/24.0 MB 3.5 MB/s eta 0:00:07\n",
      "   -- ------------------------------------- 1.6/24.0 MB 3.6 MB/s eta 0:00:07\n",
      "   --- ------------------------------------ 2.0/24.0 MB 3.8 MB/s eta 0:00:06\n",
      "   --- ------------------------------------ 2.2/24.0 MB 3.8 MB/s eta 0:00:06\n",
      "   ---- ----------------------------------- 2.6/24.0 MB 4.1 MB/s eta 0:00:06\n",
      "   ---- ----------------------------------- 2.8/24.0 MB 4.2 MB/s eta 0:00:06\n",
      "   ----- ---------------------------------- 3.2/24.0 MB 4.4 MB/s eta 0:00:05\n",
      "   ------ --------------------------------- 3.6/24.0 MB 4.7 MB/s eta 0:00:05\n",
      "   ------ --------------------------------- 3.9/24.0 MB 4.9 MB/s eta 0:00:05\n",
      "   ------- -------------------------------- 4.4/24.0 MB 5.1 MB/s eta 0:00:04\n",
      "   ------- -------------------------------- 4.6/24.0 MB 5.2 MB/s eta 0:00:04\n",
      "   -------- ------------------------------- 5.1/24.0 MB 5.4 MB/s eta 0:00:04\n",
      "   --------- ------------------------------ 5.4/24.0 MB 5.4 MB/s eta 0:00:04\n",
      "   --------- ------------------------------ 5.9/24.0 MB 5.7 MB/s eta 0:00:04\n",
      "   ---------- ----------------------------- 6.3/24.0 MB 5.8 MB/s eta 0:00:04\n",
      "   ----------- ---------------------------- 6.7/24.0 MB 5.9 MB/s eta 0:00:03\n",
      "   ----------- ---------------------------- 7.2/24.0 MB 6.1 MB/s eta 0:00:03\n",
      "   ------------ --------------------------- 7.6/24.0 MB 6.2 MB/s eta 0:00:03\n",
      "   ------------- -------------------------- 8.2/24.0 MB 6.4 MB/s eta 0:00:03\n",
      "   -------------- ------------------------- 8.6/24.0 MB 6.5 MB/s eta 0:00:03\n",
      "   --------------- ------------------------ 9.2/24.0 MB 6.7 MB/s eta 0:00:03\n",
      "   --------------- ------------------------ 9.5/24.0 MB 6.8 MB/s eta 0:00:03\n",
      "   ---------------- ----------------------- 9.9/24.0 MB 6.8 MB/s eta 0:00:03\n",
      "   ----------------- ---------------------- 10.6/24.0 MB 7.8 MB/s eta 0:00:02\n",
      "   ------------------ --------------------- 11.1/24.0 MB 8.0 MB/s eta 0:00:02\n",
      "   ------------------- -------------------- 11.6/24.0 MB 8.6 MB/s eta 0:00:02\n",
      "   ------------------- -------------------- 11.7/24.0 MB 8.3 MB/s eta 0:00:02\n",
      "   -------------------- ------------------- 12.4/24.0 MB 9.1 MB/s eta 0:00:02\n",
      "   --------------------- ------------------ 12.9/24.0 MB 9.2 MB/s eta 0:00:02\n",
      "   ---------------------- ----------------- 13.4/24.0 MB 9.6 MB/s eta 0:00:02\n",
      "   ----------------------- ---------------- 14.0/24.0 MB 9.6 MB/s eta 0:00:02\n",
      "   ------------------------ --------------- 14.5/24.0 MB 9.9 MB/s eta 0:00:01\n",
      "   ------------------------- -------------- 15.3/24.0 MB 10.2 MB/s eta 0:00:01\n",
      "   -------------------------- ------------- 15.8/24.0 MB 10.6 MB/s eta 0:00:01\n",
      "   --------------------------- ------------ 16.7/24.0 MB 11.1 MB/s eta 0:00:01\n",
      "   ---------------------------- ----------- 17.2/24.0 MB 11.3 MB/s eta 0:00:01\n",
      "   ------------------------------ --------- 18.2/24.0 MB 11.9 MB/s eta 0:00:01\n",
      "   ------------------------------ --------- 18.5/24.0 MB 11.5 MB/s eta 0:00:01\n",
      "   -------------------------------- ------- 19.7/24.0 MB 12.6 MB/s eta 0:00:01\n",
      "   --------------------------------- ------ 20.3/24.0 MB 12.8 MB/s eta 0:00:01\n",
      "   ----------------------------------- ---- 21.1/24.0 MB 13.6 MB/s eta 0:00:01\n",
      "   ------------------------------------ --- 21.9/24.0 MB 14.6 MB/s eta 0:00:01\n",
      "   -------------------------------------- - 23.0/24.0 MB 14.9 MB/s eta 0:00:01\n",
      "   -------------------------------------- - 23.4/24.0 MB 15.2 MB/s eta 0:00:01\n",
      "   ---------------------------------------  24.0/24.0 MB 15.6 MB/s eta 0:00:01\n",
      "   ---------------------------------------  24.0/24.0 MB 15.6 MB/s eta 0:00:01\n",
      "   ---------------------------------------  24.0/24.0 MB 15.6 MB/s eta 0:00:01\n",
      "   ---------------------------------------- 24.0/24.0 MB 13.1 MB/s eta 0:00:00\n",
      "Downloading smart_open-6.4.0-py3-none-any.whl (57 kB)\n",
      "   ---------------------------------------- 0.0/57.0 kB ? eta -:--:--\n",
      "   ---------------------------------------- 57.0/57.0 kB 3.1 MB/s eta 0:00:00\n",
      "Installing collected packages: smart-open, gensim\n",
      "Successfully installed gensim-4.3.2 smart-open-6.4.0\n"
     ]
    },
    {
     "name": "stderr",
     "output_type": "stream",
     "text": [
      "ERROR: pip's dependency resolver does not currently take into account all the packages that are installed. This behaviour is the source of the following dependency conflicts.\n",
      "pyldavis 3.4.1 requires funcy, which is not installed.\n",
      "pyldavis 3.4.1 requires numexpr, which is not installed.\n"
     ]
    }
   ],
   "source": [
    "#Installation de nltk et de gensim\n",
    "!pip install nltk\n",
    "!pip install gensim"
   ]
  },
  {
   "cell_type": "code",
   "execution_count": 5,
   "metadata": {},
   "outputs": [
    {
     "name": "stdout",
     "output_type": "stream",
     "text": [
      "Collecting funcy\n",
      "  Downloading funcy-2.0-py2.py3-none-any.whl (30 kB)\n",
      "Collecting numexpr\n",
      "  Downloading numexpr-2.8.7-cp311-cp311-win_amd64.whl.metadata (8.9 kB)\n",
      "Requirement already satisfied: numpy>=1.13.3 in c:\\users\\user\\appdata\\local\\programs\\python\\python311\\lib\\site-packages (from numexpr) (1.24.3)\n",
      "Downloading numexpr-2.8.7-cp311-cp311-win_amd64.whl (95 kB)\n",
      "   ---------------------------------------- 0.0/95.3 kB ? eta -:--:--\n",
      "   ------------------------- -------------- 61.4/95.3 kB 1.7 MB/s eta 0:00:01\n",
      "   ---------------------------------------- 95.3/95.3 kB 1.1 MB/s eta 0:00:00\n",
      "Installing collected packages: funcy, numexpr\n",
      "Successfully installed funcy-2.0 numexpr-2.8.7\n",
      "Requirement already satisfied: pyLDAvis in c:\\users\\user\\appdata\\roaming\\python\\python311\\site-packages (3.4.1)\n",
      "Requirement already satisfied: numpy>=1.24.2 in c:\\users\\user\\appdata\\local\\programs\\python\\python311\\lib\\site-packages (from pyLDAvis) (1.24.3)\n",
      "Requirement already satisfied: scipy in c:\\users\\user\\appdata\\local\\programs\\python\\python311\\lib\\site-packages (from pyLDAvis) (1.10.1)\n",
      "Requirement already satisfied: pandas>=2.0.0 in c:\\users\\user\\appdata\\local\\programs\\python\\python311\\lib\\site-packages (from pyLDAvis) (2.0.1)\n",
      "Requirement already satisfied: joblib>=1.2.0 in c:\\users\\user\\appdata\\local\\programs\\python\\python311\\lib\\site-packages (from pyLDAvis) (1.3.2)\n",
      "Requirement already satisfied: jinja2 in c:\\users\\user\\appdata\\local\\programs\\python\\python311\\lib\\site-packages (from pyLDAvis) (3.1.2)\n",
      "Requirement already satisfied: numexpr in c:\\users\\user\\appdata\\local\\programs\\python\\python311\\lib\\site-packages (from pyLDAvis) (2.8.7)\n",
      "Requirement already satisfied: funcy in c:\\users\\user\\appdata\\local\\programs\\python\\python311\\lib\\site-packages (from pyLDAvis) (2.0)\n",
      "Requirement already satisfied: scikit-learn>=1.0.0 in c:\\users\\user\\appdata\\local\\programs\\python\\python311\\lib\\site-packages (from pyLDAvis) (1.3.2)\n",
      "Requirement already satisfied: gensim in c:\\users\\user\\appdata\\local\\programs\\python\\python311\\lib\\site-packages (from pyLDAvis) (4.3.2)\n",
      "Requirement already satisfied: setuptools in c:\\users\\user\\appdata\\local\\programs\\python\\python311\\lib\\site-packages (from pyLDAvis) (67.7.2)\n",
      "Requirement already satisfied: python-dateutil>=2.8.2 in c:\\users\\user\\appdata\\local\\programs\\python\\python311\\lib\\site-packages (from pandas>=2.0.0->pyLDAvis) (2.8.2)\n",
      "Requirement already satisfied: pytz>=2020.1 in c:\\users\\user\\appdata\\local\\programs\\python\\python311\\lib\\site-packages (from pandas>=2.0.0->pyLDAvis) (2023.3)\n",
      "Requirement already satisfied: tzdata>=2022.1 in c:\\users\\user\\appdata\\local\\programs\\python\\python311\\lib\\site-packages (from pandas>=2.0.0->pyLDAvis) (2023.3)\n",
      "Requirement already satisfied: threadpoolctl>=2.0.0 in c:\\users\\user\\appdata\\local\\programs\\python\\python311\\lib\\site-packages (from scikit-learn>=1.0.0->pyLDAvis) (3.2.0)\n",
      "Requirement already satisfied: smart-open>=1.8.1 in c:\\users\\user\\appdata\\local\\programs\\python\\python311\\lib\\site-packages (from gensim->pyLDAvis) (6.4.0)\n",
      "Requirement already satisfied: MarkupSafe>=2.0 in c:\\users\\user\\appdata\\local\\programs\\python\\python311\\lib\\site-packages (from jinja2->pyLDAvis) (2.1.2)\n",
      "Requirement already satisfied: six>=1.5 in c:\\users\\user\\appdata\\local\\programs\\python\\python311\\lib\\site-packages (from python-dateutil>=2.8.2->pandas>=2.0.0->pyLDAvis) (1.16.0)\n"
     ]
    }
   ],
   "source": [
    "#Installation de funcy numexpr et pyLDAvis car pyLDAvis 3.4.1 nécessite les packages funcy et numexpr, qui ne sont pas installés.\n",
    "\n",
    "!pip install funcy numexpr\n",
    "!pip install pyLDAvis\n"
   ]
  },
  {
   "cell_type": "code",
   "execution_count": 6,
   "metadata": {},
   "outputs": [],
   "source": [
    "import gensim\n",
    "from gensim.utils import simple_preprocess\n",
    "from gensim.parsing.preprocessing import STOPWORDS\n",
    "from gensim.models import CoherenceModel"
   ]
  },
  {
   "cell_type": "code",
   "execution_count": 7,
   "metadata": {},
   "outputs": [
    {
     "name": "stderr",
     "output_type": "stream",
     "text": [
      "[nltk_data] Downloading package wordnet to\n",
      "[nltk_data]     C:\\Users\\User\\AppData\\Roaming\\nltk_data...\n",
      "[nltk_data]   Package wordnet is already up-to-date!\n",
      "[nltk_data] Downloading package omw-1.4 to\n",
      "[nltk_data]     C:\\Users\\User\\AppData\\Roaming\\nltk_data...\n",
      "[nltk_data]   Package omw-1.4 is already up-to-date!\n"
     ]
    },
    {
     "data": {
      "text/plain": [
       "True"
      ]
     },
     "execution_count": 7,
     "metadata": {},
     "output_type": "execute_result"
    }
   ],
   "source": [
    "import nltk\n",
    "from nltk.stem import WordNetLemmatizer, SnowballStemmer\n",
    "from nltk.stem.porter import *\n",
    "nltk.download('wordnet')\n",
    "nltk.download('omw-1.4')"
   ]
  },
  {
   "cell_type": "code",
   "execution_count": 8,
   "metadata": {},
   "outputs": [],
   "source": [
    "#Charger le dataset, ici children_covid_analyse.csv\n",
    "def load_data(path):\n",
    "    return pd.read_csv(path)\n",
    "tweets_df=load_data(\"../../Donnees/analyse_texte/children_covid_analyse.csv\") \n",
    "#Pour effectuer un autre TM il faudra juste changer le nom du dataset"
   ]
  },
  {
   "cell_type": "code",
   "execution_count": 9,
   "metadata": {},
   "outputs": [],
   "source": [
    "#La racinisation (stemming) consiste à transformer les mots en forme radicale c’est ce que fait la fonction SnowballStemmer de Nltk.\n",
    "stemmer = SnowballStemmer('english') #ici anglais car nos tweets sont en anglais"
   ]
  },
  {
   "cell_type": "code",
   "execution_count": 11,
   "metadata": {},
   "outputs": [
    {
     "data": {
      "text/plain": [
       "dtype('O')"
      ]
     },
     "execution_count": 11,
     "metadata": {},
     "output_type": "execute_result"
    }
   ],
   "source": [
    "tweets_df['Texte corrigé'].dtype"
   ]
  },
  {
   "cell_type": "code",
   "execution_count": 12,
   "metadata": {},
   "outputs": [],
   "source": [
    "#Toutes les lignes de la colonne \"Texte corrigé\" n'étaient pas toutes de types 'str'\n",
    "tweets_df['Texte corrigé'] = tweets_df['Texte corrigé'].astype(str)\n",
    "\n",
    "#Suppression des liens commençant par http et https  \n",
    "def remove_url(text):\n",
    " return re.sub(r'https?:\\S*', '', text)\n",
    "tweets_df['Texte corrigé']=tweets_df['Texte corrigé'].apply(remove_url)\n",
    "def remove_url1(text):\n",
    " return re.sub(r'http?:\\S*', '', text)\n",
    "tweets_df['Texte corrigé']=tweets_df['Texte corrigé'].apply(remove_url1)"
   ]
  },
  {
   "cell_type": "code",
   "execution_count": 13,
   "metadata": {},
   "outputs": [],
   "source": [
    "#opération de mettre les mots sous leur forme canonique \n",
    "#ex: running devient run \n",
    "def lemmatize_stemming(text) :\n",
    "  return stemmer.stem(WordNetLemmatizer().lemmatize(text, pos='n'))"
   ]
  },
  {
   "cell_type": "code",
   "execution_count": 14,
   "metadata": {},
   "outputs": [
    {
     "name": "stdout",
     "output_type": "stream",
     "text": [
      "['fichier']\n",
      "[]\n",
      "['retweet']\n",
      "['like']\n",
      "['répon']\n",
      "['citat']\n",
      "['hashtag']\n",
      "['text']\n",
      "[]\n",
      "['phrase']\n",
      "[]\n",
      "['sentiment']\n",
      "['polarité']\n",
      "['subjectivité']\n",
      "['phrase', 'nomin']\n",
      "['text', 'corrigé']\n",
      "['text', 'tokénizé']\n"
     ]
    }
   ],
   "source": [
    "#suppression des stopwords (the, or, and…) et des mots de moins de 3 lettres\n",
    "def preprocess(text):\n",
    "    result = []\n",
    "    for token in gensim.utils.simple_preprocess(text):\n",
    "        if token not in gensim.parsing.preprocessing.STOPWORDS and len(token) > 3:\n",
    "            result.append(lemmatize_stemming(token))\n",
    "    return result\n",
    "\n",
    "\n",
    "# Imprimez le résultat intermédiaire pour chaque document\n",
    "processed_docs = [preprocess(doc) for doc in tweets_df]\n",
    "for doc in processed_docs:\n",
    "    # Concaténez les mots pour former une phrase\n",
    "    doc_text = ' '.join(doc)\n",
    "    print(preprocess(doc_text))\n",
    "    \n",
    "\n"
   ]
  },
  {
   "cell_type": "code",
   "execution_count": 17,
   "metadata": {},
   "outputs": [
    {
     "name": "stdout",
     "output_type": "stream",
     "text": [
      "Topic: 0 -> Words: 0.098*\"vaccin\" + 0.087*\"covid\" + 0.074*\"child\" + 0.016*\"kiss\" + 0.015*\"school\" + 0.014*\"health\" + 0.012*\"anaem\" + 0.010*\"parent\" + 0.010*\"coronavirus\" + 0.009*\"move\"\n",
      "Topic: 1 -> Words: 0.069*\"vaccin\" + 0.059*\"covid\" + 0.053*\"child\" + 0.014*\"kiss\" + 0.012*\"health\" + 0.011*\"india\" + 0.010*\"age\" + 0.010*\"anaem\" + 0.009*\"protect\" + 0.008*\"long\"\n",
      "Topic: 2 -> Words: 0.044*\"vaccin\" + 0.042*\"child\" + 0.036*\"covid\" + 0.009*\"start\" + 0.008*\"event\" + 0.007*\"year\" + 0.007*\"kiss\" + 0.006*\"novavax\" + 0.005*\"scienc\" + 0.004*\"health\"\n",
      "Topic: 3 -> Words: 0.041*\"vaccin\" + 0.029*\"covid\" + 0.028*\"child\" + 0.013*\"australia\" + 0.008*\"tafrishaala\" + 0.008*\"survey\" + 0.006*\"news\" + 0.006*\"coronavirus\" + 0.005*\"queensland\" + 0.005*\"crime\"\n",
      "Topic: 4 -> Words: 0.038*\"vaccin\" + 0.035*\"help\" + 0.033*\"covid\" + 0.032*\"child\" + 0.025*\"money\" + 0.025*\"hopeless\" + 0.023*\"financ\" + 0.023*\"covid_\" + 0.022*\"christian\" + 0.021*\"philanthropi\"\n",
      "Topic: 5 -> Words: 0.065*\"vaccin\" + 0.062*\"covid\" + 0.051*\"child\" + 0.016*\"question\" + 0.014*\"share\" + 0.013*\"fear\" + 0.013*\"watch\" + 0.012*\"pidsocieti\" + 0.012*\"idsainfo\" + 0.012*\"realtimecovid\"\n",
      "Topic: 6 -> Words: 0.049*\"vaccin\" + 0.049*\"covid\" + 0.046*\"child\" + 0.039*\"covaxin\" + 0.009*\"bharatbiotech\" + 0.008*\"variant\" + 0.007*\"administ\" + 0.007*\"cnbcnow\" + 0.007*\"endors\" + 0.007*\"aiim\"\n",
      "Topic: 7 -> Words: 0.042*\"covid\" + 0.038*\"vaccin\" + 0.034*\"child\" + 0.022*\"israel\" + 0.017*\"scienc\" + 0.013*\"ontario\" + 0.013*\"australia\" + 0.013*\"albert\" + 0.013*\"corrupt\" + 0.012*\"murder\"\n",
      "Topic: 8 -> Words: 0.112*\"vaccin\" + 0.090*\"child\" + 0.087*\"covid\" + 0.037*\"finer\" + 0.023*\"age\" + 0.020*\"year\" + 0.017*\"approv\" + 0.013*\"modern\" + 0.012*\"biontech\" + 0.011*\"author\"\n",
      "Topic: 9 -> Words: 0.104*\"vaccin\" + 0.074*\"child\" + 0.070*\"covid\" + 0.030*\"kiss\" + 0.025*\"coronavirus\" + 0.015*\"parent\" + 0.015*\"finer\" + 0.012*\"health\" + 0.010*\"news\" + 0.009*\"move\"\n"
     ]
    }
   ],
   "source": [
    "# On stocke les données dans un dictionnaire Gensim et on les convertit au format Bag Of Words(bow).\n",
    "#On a alors un couple mot/nb d'occurence\n",
    "\n",
    "# Utilisez la colonne \"Texte corrigé\" pour le prétraitement\n",
    "processed_docs = [preprocess(doc) for doc in tweets_df['Texte corrigé']]\n",
    "\n",
    "# Créez le dictionnaire et le corpus\n",
    "dictionary = gensim.corpora.Dictionary(processed_docs)\n",
    "bow_corpus = [dictionary.doc2bow(doc) for doc in processed_docs]\n",
    "\n",
    "# Créez et entraînez le modèle LDA\n",
    "lda_model = gensim.models.LdaMulticore(bow_corpus, \n",
    "                                       num_topics=10, # Le nombre de topics à extraire\n",
    "                                       id2word=dictionary, # Le mapping entre les identifiants et les mots\n",
    "                                       passes=2000) # Le nombre d'itérations dans le corpus/ passages\n",
    "\n",
    "\n",
    "\n",
    "\n",
    "# Affichez les topics\n",
    "topics = []\n",
    "for idx, topic in lda_model.print_topics(-1) :\n",
    "    print(\"Topic: {} -> Words: {}\".format(idx, topic))\n",
    "    topics.append(topic)\n"
   ]
  },
  {
   "cell_type": "markdown",
   "metadata": {},
   "source": [
    "temps d'exécution pour 1407 lignes et 1000 passages: 10 min 30.1 s \n",
    "pour 2000 passages: 21 min 58.6 s "
   ]
  },
  {
   "cell_type": "code",
   "execution_count": 18,
   "metadata": {},
   "outputs": [
    {
     "name": "stdout",
     "output_type": "stream",
     "text": [
      "Coherence Score:  0.41939273995841353\n"
     ]
    }
   ],
   "source": [
    "#Mesure de la cohérence du modèle\n",
    "coherence_model_lda = CoherenceModel(model=lda_model, texts=processed_docs, dictionary=dictionary)\n",
    "coherence_lda = coherence_model_lda.get_coherence()\n",
    "print('Coherence Score: ', coherence_lda)"
   ]
  },
  {
   "cell_type": "markdown",
   "metadata": {},
   "source": [
    "Pour 1000 passages et 10 topics on a une cohérence de 0.40353069757626814\n",
    "Pour 2000 passages et 10 topics  on a une cohérence de 0.41939273995841353\n",
    "\n",
    "On observe aucune augmentation significative. \n",
    "La cohérence du modèle LDA doit être comprise entre 0.4 et 0.7. Dans la documentation il est proposé d'augmenter le nb de passages à 10000 pour avoir un score proche de 70%\n"
   ]
  },
  {
   "cell_type": "code",
   "execution_count": 19,
   "metadata": {},
   "outputs": [],
   "source": [
    "#On garde les résultats dans un df\n",
    "all_topic_model = []\n",
    "for i in range(len(topics)):\n",
    "  str = topics[i].split(' + ')\n",
    "  topic_model = []\n",
    "  for j in range(10):\n",
    "    weight = str[j][0:5]\n",
    "    word = str[j][7:len(str[j])-1]\n",
    "    topic_model.append((weight, word))\n",
    "  all_topic_model.append(topic_model)"
   ]
  },
  {
   "cell_type": "code",
   "execution_count": 20,
   "metadata": {},
   "outputs": [
    {
     "data": {
      "text/html": [
       "<div>\n",
       "<style scoped>\n",
       "    .dataframe tbody tr th:only-of-type {\n",
       "        vertical-align: middle;\n",
       "    }\n",
       "\n",
       "    .dataframe tbody tr th {\n",
       "        vertical-align: top;\n",
       "    }\n",
       "\n",
       "    .dataframe thead th {\n",
       "        text-align: right;\n",
       "    }\n",
       "</style>\n",
       "<table border=\"1\" class=\"dataframe\">\n",
       "  <thead>\n",
       "    <tr style=\"text-align: right;\">\n",
       "      <th></th>\n",
       "      <th>0</th>\n",
       "      <th>1</th>\n",
       "      <th>2</th>\n",
       "      <th>3</th>\n",
       "      <th>4</th>\n",
       "      <th>5</th>\n",
       "      <th>6</th>\n",
       "      <th>7</th>\n",
       "      <th>8</th>\n",
       "      <th>9</th>\n",
       "    </tr>\n",
       "  </thead>\n",
       "  <tbody>\n",
       "    <tr>\n",
       "      <th>Topic 1</th>\n",
       "      <td>(0.098, vaccin)</td>\n",
       "      <td>(0.087, covid)</td>\n",
       "      <td>(0.074, child)</td>\n",
       "      <td>(0.016, kiss)</td>\n",
       "      <td>(0.015, school)</td>\n",
       "      <td>(0.014, health)</td>\n",
       "      <td>(0.012, anaem)</td>\n",
       "      <td>(0.010, parent)</td>\n",
       "      <td>(0.010, coronavirus)</td>\n",
       "      <td>(0.009, move)</td>\n",
       "    </tr>\n",
       "    <tr>\n",
       "      <th>Topic 2</th>\n",
       "      <td>(0.069, vaccin)</td>\n",
       "      <td>(0.059, covid)</td>\n",
       "      <td>(0.053, child)</td>\n",
       "      <td>(0.014, kiss)</td>\n",
       "      <td>(0.012, health)</td>\n",
       "      <td>(0.011, india)</td>\n",
       "      <td>(0.010, age)</td>\n",
       "      <td>(0.010, anaem)</td>\n",
       "      <td>(0.009, protect)</td>\n",
       "      <td>(0.008, long)</td>\n",
       "    </tr>\n",
       "    <tr>\n",
       "      <th>Topic 3</th>\n",
       "      <td>(0.044, vaccin)</td>\n",
       "      <td>(0.042, child)</td>\n",
       "      <td>(0.036, covid)</td>\n",
       "      <td>(0.009, start)</td>\n",
       "      <td>(0.008, event)</td>\n",
       "      <td>(0.007, year)</td>\n",
       "      <td>(0.007, kiss)</td>\n",
       "      <td>(0.006, novavax)</td>\n",
       "      <td>(0.005, scienc)</td>\n",
       "      <td>(0.004, health)</td>\n",
       "    </tr>\n",
       "    <tr>\n",
       "      <th>Topic 4</th>\n",
       "      <td>(0.041, vaccin)</td>\n",
       "      <td>(0.029, covid)</td>\n",
       "      <td>(0.028, child)</td>\n",
       "      <td>(0.013, australia)</td>\n",
       "      <td>(0.008, tafrishaala)</td>\n",
       "      <td>(0.008, survey)</td>\n",
       "      <td>(0.006, news)</td>\n",
       "      <td>(0.006, coronavirus)</td>\n",
       "      <td>(0.005, queensland)</td>\n",
       "      <td>(0.005, crime)</td>\n",
       "    </tr>\n",
       "    <tr>\n",
       "      <th>Topic 5</th>\n",
       "      <td>(0.038, vaccin)</td>\n",
       "      <td>(0.035, help)</td>\n",
       "      <td>(0.033, covid)</td>\n",
       "      <td>(0.032, child)</td>\n",
       "      <td>(0.025, money)</td>\n",
       "      <td>(0.025, hopeless)</td>\n",
       "      <td>(0.023, financ)</td>\n",
       "      <td>(0.023, covid_)</td>\n",
       "      <td>(0.022, christian)</td>\n",
       "      <td>(0.021, philanthropi)</td>\n",
       "    </tr>\n",
       "    <tr>\n",
       "      <th>Topic 6</th>\n",
       "      <td>(0.065, vaccin)</td>\n",
       "      <td>(0.062, covid)</td>\n",
       "      <td>(0.051, child)</td>\n",
       "      <td>(0.016, question)</td>\n",
       "      <td>(0.014, share)</td>\n",
       "      <td>(0.013, fear)</td>\n",
       "      <td>(0.013, watch)</td>\n",
       "      <td>(0.012, pidsocieti)</td>\n",
       "      <td>(0.012, idsainfo)</td>\n",
       "      <td>(0.012, realtimecovid)</td>\n",
       "    </tr>\n",
       "    <tr>\n",
       "      <th>Topic 7</th>\n",
       "      <td>(0.049, vaccin)</td>\n",
       "      <td>(0.049, covid)</td>\n",
       "      <td>(0.046, child)</td>\n",
       "      <td>(0.039, covaxin)</td>\n",
       "      <td>(0.009, bharatbiotech)</td>\n",
       "      <td>(0.008, variant)</td>\n",
       "      <td>(0.007, administ)</td>\n",
       "      <td>(0.007, cnbcnow)</td>\n",
       "      <td>(0.007, endors)</td>\n",
       "      <td>(0.007, aiim)</td>\n",
       "    </tr>\n",
       "    <tr>\n",
       "      <th>Topic 8</th>\n",
       "      <td>(0.042, covid)</td>\n",
       "      <td>(0.038, vaccin)</td>\n",
       "      <td>(0.034, child)</td>\n",
       "      <td>(0.022, israel)</td>\n",
       "      <td>(0.017, scienc)</td>\n",
       "      <td>(0.013, ontario)</td>\n",
       "      <td>(0.013, australia)</td>\n",
       "      <td>(0.013, albert)</td>\n",
       "      <td>(0.013, corrupt)</td>\n",
       "      <td>(0.012, murder)</td>\n",
       "    </tr>\n",
       "    <tr>\n",
       "      <th>Topic 9</th>\n",
       "      <td>(0.112, vaccin)</td>\n",
       "      <td>(0.090, child)</td>\n",
       "      <td>(0.087, covid)</td>\n",
       "      <td>(0.037, finer)</td>\n",
       "      <td>(0.023, age)</td>\n",
       "      <td>(0.020, year)</td>\n",
       "      <td>(0.017, approv)</td>\n",
       "      <td>(0.013, modern)</td>\n",
       "      <td>(0.012, biontech)</td>\n",
       "      <td>(0.011, author)</td>\n",
       "    </tr>\n",
       "    <tr>\n",
       "      <th>Topic 10</th>\n",
       "      <td>(0.104, vaccin)</td>\n",
       "      <td>(0.074, child)</td>\n",
       "      <td>(0.070, covid)</td>\n",
       "      <td>(0.030, kiss)</td>\n",
       "      <td>(0.025, coronavirus)</td>\n",
       "      <td>(0.015, parent)</td>\n",
       "      <td>(0.015, finer)</td>\n",
       "      <td>(0.012, health)</td>\n",
       "      <td>(0.010, news)</td>\n",
       "      <td>(0.009, move)</td>\n",
       "    </tr>\n",
       "  </tbody>\n",
       "</table>\n",
       "</div>"
      ],
      "text/plain": [
       "                        0                1               2   \n",
       "Topic 1   (0.098, vaccin)   (0.087, covid)  (0.074, child)  \\\n",
       "Topic 2   (0.069, vaccin)   (0.059, covid)  (0.053, child)   \n",
       "Topic 3   (0.044, vaccin)   (0.042, child)  (0.036, covid)   \n",
       "Topic 4   (0.041, vaccin)   (0.029, covid)  (0.028, child)   \n",
       "Topic 5   (0.038, vaccin)    (0.035, help)  (0.033, covid)   \n",
       "Topic 6   (0.065, vaccin)   (0.062, covid)  (0.051, child)   \n",
       "Topic 7   (0.049, vaccin)   (0.049, covid)  (0.046, child)   \n",
       "Topic 8    (0.042, covid)  (0.038, vaccin)  (0.034, child)   \n",
       "Topic 9   (0.112, vaccin)   (0.090, child)  (0.087, covid)   \n",
       "Topic 10  (0.104, vaccin)   (0.074, child)  (0.070, covid)   \n",
       "\n",
       "                           3                       4                  5   \n",
       "Topic 1        (0.016, kiss)         (0.015, school)    (0.014, health)  \\\n",
       "Topic 2        (0.014, kiss)         (0.012, health)     (0.011, india)   \n",
       "Topic 3       (0.009, start)          (0.008, event)      (0.007, year)   \n",
       "Topic 4   (0.013, australia)    (0.008, tafrishaala)    (0.008, survey)   \n",
       "Topic 5       (0.032, child)          (0.025, money)  (0.025, hopeless)   \n",
       "Topic 6    (0.016, question)          (0.014, share)      (0.013, fear)   \n",
       "Topic 7     (0.039, covaxin)  (0.009, bharatbiotech)   (0.008, variant)   \n",
       "Topic 8      (0.022, israel)         (0.017, scienc)   (0.013, ontario)   \n",
       "Topic 9       (0.037, finer)            (0.023, age)      (0.020, year)   \n",
       "Topic 10       (0.030, kiss)    (0.025, coronavirus)    (0.015, parent)   \n",
       "\n",
       "                           6                     7                     8   \n",
       "Topic 1       (0.012, anaem)       (0.010, parent)  (0.010, coronavirus)  \\\n",
       "Topic 2         (0.010, age)        (0.010, anaem)      (0.009, protect)   \n",
       "Topic 3        (0.007, kiss)      (0.006, novavax)       (0.005, scienc)   \n",
       "Topic 4        (0.006, news)  (0.006, coronavirus)   (0.005, queensland)   \n",
       "Topic 5      (0.023, financ)       (0.023, covid_)    (0.022, christian)   \n",
       "Topic 6       (0.013, watch)   (0.012, pidsocieti)     (0.012, idsainfo)   \n",
       "Topic 7    (0.007, administ)      (0.007, cnbcnow)       (0.007, endors)   \n",
       "Topic 8   (0.013, australia)       (0.013, albert)      (0.013, corrupt)   \n",
       "Topic 9      (0.017, approv)       (0.013, modern)     (0.012, biontech)   \n",
       "Topic 10      (0.015, finer)       (0.012, health)         (0.010, news)   \n",
       "\n",
       "                               9  \n",
       "Topic 1            (0.009, move)  \n",
       "Topic 2            (0.008, long)  \n",
       "Topic 3          (0.004, health)  \n",
       "Topic 4           (0.005, crime)  \n",
       "Topic 5    (0.021, philanthropi)  \n",
       "Topic 6   (0.012, realtimecovid)  \n",
       "Topic 7            (0.007, aiim)  \n",
       "Topic 8          (0.012, murder)  \n",
       "Topic 9          (0.011, author)  \n",
       "Topic 10           (0.009, move)  "
      ]
     },
     "execution_count": 20,
     "metadata": {},
     "output_type": "execute_result"
    }
   ],
   "source": [
    "df_topic_model = pd.DataFrame(all_topic_model)\n",
    "df_topic_model.rename(index = {0: \"Topic 1\", 1: \"Topic 2\", 2: \"Topic 3\", 3: \"Topic 4\", 4: \"Topic 5\", 5: \"Topic 6\", 6: \"Topic 7\", 7: \"Topic 8\", 8: \"Topic 9\", 9: \"Topic 10\"})"
   ]
  },
  {
   "cell_type": "code",
   "execution_count": 21,
   "metadata": {},
   "outputs": [],
   "source": [
    "import pyLDAvis.gensim_models"
   ]
  },
  {
   "cell_type": "code",
   "execution_count": 22,
   "metadata": {},
   "outputs": [
    {
     "data": {
      "text/html": [
       "\n",
       "<link rel=\"stylesheet\" type=\"text/css\" href=\"https://cdn.jsdelivr.net/gh/bmabey/pyLDAvis@3.4.0/pyLDAvis/js/ldavis.v1.0.0.css\">\n",
       "\n",
       "\n",
       "<div id=\"ldavis_el2004420262984247049025957803\" style=\"background-color:white;\"></div>\n",
       "<script type=\"text/javascript\">\n",
       "\n",
       "var ldavis_el2004420262984247049025957803_data = {\"mdsDat\": {\"x\": [-0.09084756628356294, -0.1819942973599074, -0.12652629298420562, -0.03729653342872702, 0.02650777605483554, 0.04373934133843854, 0.1554134892606537, 0.07806856095150966, 0.053586935308726456, 0.07934858714223895], \"y\": [-0.03308737982546056, -0.025989283566882793, -0.05410732473310401, 0.011105532116751101, 0.06838944970735995, 0.07628397514187302, -0.18954034557171057, 0.054792928449116374, 0.05627430049055299, 0.03587814779150429], \"topics\": [1, 2, 3, 4, 5, 6, 7, 8, 9, 10], \"cluster\": [1, 1, 1, 1, 1, 1, 1, 1, 1, 1], \"Freq\": [27.305276776165226, 26.42565004131432, 14.833829646204888, 7.30347357757376, 6.300065648511967, 4.5503853819854045, 4.170647410294263, 3.617927733835181, 3.243300633173186, 2.2494431509418074]}, \"tinfo\": {\"Term\": [\"vaccin\", \"covid\", \"child\", \"finer\", \"age\", \"covaxin\", \"covid_\", \"help\", \"kiss\", \"approv\", \"year\", \"modern\", \"australia\", \"parent\", \"famili\", \"coronavirus\", \"hopeless\", \"money\", \"need\", \"india\", \"scienc\", \"financ\", \"lid\", \"share\", \"govern\", \"school\", \"anaem\", \"christian\", \"question\", \"protect\", \"covidisnotov\", \"healthforal\", \"began\", \"smartnew\", \"magplanet\", \"myhealthfunda\", \"mypressnew\", \"styleupnow\", \"smartvideo\", \"fall\", \"afghanistan\", \"healthequ\", \"somapediatr\", \"childhealth\", \"kaiser\", \"dramat\", \"washingtonpost\", \"paus\", \"healthychildren\", \"parentingtip\", \"citi\", \"elementari\", \"tend\", \"internet\", \"sky\", \"spi\", \"skeptic\", \"classroom\", \"covidiot\", \"german\", \"nurs\", \"univers\", \"youngster\", \"roll\", \"astrazeneca\", \"teacher\", \"wearamask\", \"continu\", \"opinion\", \"school\", \"research\", \"concern\", \"educ\", \"communiti\", \"anaem\", \"protect\", \"say\", \"covid\", \"vaccin\", \"parent\", \"child\", \"health\", \"kiss\", \"infect\", \"covidvaccin\", \"know\", \"move\", \"publichealth\", \"felt\", \"pediatrician\", \"coronavirus\", \"pediatr\", \"covid_\", \"healthcar\", \"test\", \"safeti\", \"finer\", \"like\", \"canada\", \"safe\", \"news\", \"need\", \"modern\", \"emerg\", \"dose\", \"result\", \"clinicaltri\", \"moderna_tx\", \"sinovac\", \"closer\", \"efficaci\", \"biotech\", \"drug\", \"european\", \"request\", \"grant\", \"scientif\", \"appli\", \"visit\", \"author\", \"million\", \"begin\", \"advers\", \"costa\", \"unanim\", \"liver\", \"advis\", \"adequ\", \"venezuela\", \"bird\", \"brooklyn\", \"manhattan\", \"regulatori\", \"said\", \"announc\", \"prize\", \"us_fda\", \"year\", \"approv\", \"age\", \"good\", \"finer\", \"show\", \"report\", \"administr\", \"biontech\", \"trial\", \"plan\", \"clinic\", \"vaccin\", \"child\", \"covid\", \"safe\", \"effect\", \"break\", \"month\", \"studi\", \"news\", \"head\", \"lid\", \"shot\", \"move\", \"coronavirus\", \"health\", \"kiss\", \"recommend\", \"hinder\", \"protectthekid\", \"pfizervaccin\", \"karl_lauterbach\", \"cuti\", \"googlenew\", \"homeschool\", \"literaci\", \"coronavirusd\", \"regsprech\", \"impfung\", \"c_drosten\", \"logist\", \"ride\", \"newzealand\", \"healthcanada\", \"tip\", \"profit\", \"letstalksci\", \"stem\", \"stress\", \"await\", \"england\", \"hunger\", \"live\", \"vulner\", \"bbcrosatkin\", \"medit\", \"thursdayvib\", \"senbjf\", \"techarp\", \"corona\", \"robust\", \"teach\", \"day\", \"coronavirus\", \"kiss\", \"parent\", \"vaccin\", \"healthcar\", \"child\", \"covid\", \"news\", \"health\", \"move\", \"finer\", \"covid_\", \"anaem\", \"covidvaccin\", \"approv\", \"canada\", \"medicin\", \"age\", \"govern\", \"print\", \"biontech\", \"school\", \"immun\", \"year\", \"trial\", \"need\", \"hatfil\", \"virologist\", \"thelcpr\", \"ocgn\", \"steve\", \"sinopharm\", \"zycov\", \"zycovd\", \"final\", \"t_s_p_o_o_k_i\", \"well\", \"address\", \"locat\", \"compass\", \"faith\", \"feed\", \"newer\", \"communic\", \"decent\", \"logic\", \"sane\", \"boni\", \"shafter\", \"respiratori\", \"abcnew\", \"maker\", \"mentalhealth\", \"action\", \"hindu\", \"templ\", \"term\", \"fellow\", \"stand\", \"long\", \"florida\", \"presid\", \"world\", \"life\", \"india\", \"winter\", \"virus\", \"indigen\", \"vaccin\", \"covid\", \"protect\", \"child\", \"kiss\", \"health\", \"anaem\", \"age\", \"deltavari\", \"felt\", \"develop\", \"coronavirus\", \"parent\", \"start\", \"communiti\", \"need\", \"publichealth\", \"pidsocieti\", \"idsainfo\", \"realtimecovid\", \"downhil\", \"kidshealth\", \"montep\", \"sofa\", \"vacuous\", \"cbsnewyork\", \"shea_epi\", \"acip\", \"societyhospm\", \"sidpharm\", \"acpinternist\", \"dr_mike_steven\", \"acepnow\", \"sccm\", \"siberia\", \"jasongnewland\", \"carlosdelrio\", \"poor\", \"congress\", \"bloomberg\", \"moskowa\", \"simcoecounti\", \"kidnap\", \"drjootz\", \"immigr\", \"justic\", \"misc\", \"cdcgov\", \"watch\", \"fear\", \"share\", \"question\", \"ameracadp\", \"individu\", \"meet\", \"happen\", \"covid\", \"vaccin\", \"child\", \"lid\", \"pediatr\", \"coronavirus\", \"protect\", \"covaxin\", \"cnbcnow\", \"aiim\", \"bngo\", \"hart\", \"hgen\", \"srne\", \"tradit\", \"cnnbrk\", \"endors\", \"screen\", \"usatoday\", \"hanna\", \"bharatbiotech\", \"contact\", \"patern\", \"porch\", \"pixstoryapp\", \"mjmnew\", \"cnbcfastmoney\", \"bordercrisi\", \"nuclear\", \"recal\", \"todayindoom\", \"usdebt\", \"emigr\", \"delhi\", \"jayasumana\", \"special\", \"specialne\", \"chief\", \"differ\", \"journal\", \"administ\", \"variant\", \"covid\", \"dcgi\", \"child\", \"futur\", \"work\", \"vaccin\", \"wait\", \"widen\", \"review\", \"thing\", \"unknown\", \"india\", \"effect\", \"need\", \"coronavirus\", \"news\", \"mrna\", \"covidvaccin\", \"hopeless\", \"financ\", \"christian\", \"modestne\", \"philanthropi\", \"payitforward\", \"givingback\", \"kindnessmatt\", \"nytim\", \"featur\", \"charityfairi\", \"money\", \"digit\", \"preexist\", \"refund\", \"stimulus\", \"manitoba\", \"heal\", \"find\", \"read\", \"unemploy\", \"drlahariya\", \"better\", \"schoolsreopen\", \"covidindia\", \"seminar\", \"session\", \"focus\", \"ietim\", \"rico\", \"help\", \"facebook\", \"donat\", \"famili\", \"regberlin\", \"articl\", \"covid_\", \"need\", \"medic\", \"pink\", \"immun\", \"vaccin\", \"covid\", \"child\", \"lid\", \"school\", \"move\", \"albert\", \"murder\", \"nickiminaj\", \"sciencewin\", \"notaboutavirus\", \"israel\", \"corrupt\", \"maga\", \"secretari\", \"ukgovern\", \"toronto\", \"arizona\", \"format\", \"onthealth\", \"definit\", \"introduc\", \"mophoffici\", \"unicefafg\", \"unicefeduc\", \"unicefrosa\", \"mamabear\", \"crimin\", \"content\", \"secondaryschool\", \"transport\", \"laugh\", \"passport\", \"took\", \"calltoact\", \"healthcrisi\", \"unford\", \"ontario\", \"dear\", \"scienc\", \"micro\", \"australia\", \"travel\", \"govern\", \"student\", \"india\", \"covid\", \"access\", \"vaccin\", \"child\", \"deltavari\", \"educ\", \"canada\", \"lid\", \"rest\", \"school\", \"health\", \"event\", \"novavax\", \"herr\", \"north\", \"bravomedicalh\", \"childrensla\", \"espanol\", \"guest\", \"keckmedusc\", \"spanish\", \"town\", \"bbmp\", \"holi\", \"licens\", \"nejm\", \"regard\", \"achiev\", \"newspap\", \"longer\", \"televis\", \"thanksgiv\", \"easi\", \"worri\", \"honest\", \"donna\", \"complet\", \"emergencyus\", \"occupi\", \"quest\", \"scarc\", \"bank\", \"losangel\", \"democrat\", \"calm\", \"local\", \"start\", \"child\", \"vaccin\", \"covid\", \"stop\", \"strong\", \"sideeffect\", \"getvaccin\", \"demand\", \"fulli\", \"long\", \"scienc\", \"year\", \"video\", \"feel\", \"answer\", \"offici\", \"kiss\", \"come\", \"plan\", \"parent\", \"health\", \"corona\", \"protect\", \"question\", \"want\", \"stori\", \"tafrishaala\", \"survey\", \"queensland\", \"discoveri\", \"primit\", \"soviet\", \"surveycircl\", \"bed\", \"brisban\", \"evalu\", \"polit\", \"behavior\", \"breastfeed\", \"piec\", \"sensibl\", \"extern\", \"inch\", \"relax\", \"threshold\", \"canaryisland\", \"erupt\", \"lapalma\", \"lava\", \"lupus\", \"volcano\", \"andrew_cadman\", \"breast\", \"capitolriot\", \"frededwarduk\", \"karenh\", \"worldnew\", \"half\", \"react\", \"bitch\", \"herdimmun\", \"sputnik\", \"sequenc\", \"crime\", \"franc\", \"onlin\", \"russia\", \"listen\", \"cell\", \"immunesystem\", \"write\", \"prepar\", \"australia\", \"line\", \"protest\", \"human\", \"vaccin\", \"covid\", \"child\", \"show\", \"immun\", \"vaccinemand\", \"news\", \"cuba\", \"coronavirus\", \"need\", \"time\", \"lockdown\", \"approv\", \"india\", \"school\", \"communiti\"], \"Freq\": [2018.0, 1652.0, 1566.0, 320.0, 183.0, 41.0, 82.0, 53.0, 277.0, 128.0, 156.0, 77.0, 44.0, 129.0, 46.0, 223.0, 24.0, 26.0, 62.0, 57.0, 44.0, 22.0, 84.0, 30.0, 50.0, 137.0, 137.0, 21.0, 37.0, 66.0, 13.808468268096675, 12.893946970258037, 12.893785898096526, 11.064587309109676, 8.321325244509021, 8.321325244509021, 8.321325244509021, 8.321325244509021, 8.320991491381568, 8.320892816543886, 13.808272369521866, 12.89393826365471, 6.492268863376479, 6.492031608435876, 6.491861104120764, 5.57773740783396, 5.577597013855347, 5.577584679500637, 5.577431225617035, 4.663178381380914, 4.66302311362162, 4.662371569472807, 3.7486726828732313, 3.748672320098093, 3.748667604021292, 3.748667604021292, 3.748518503439353, 3.7485388188471114, 3.7483820999872632, 3.748307005533586, 8.295661080108356, 15.46570781366557, 10.149807715372399, 11.064442924604538, 19.536004237235915, 15.607168351186713, 17.367084869766032, 7.339333575304705, 11.926394477117771, 90.58177128029023, 30.30280757387744, 11.898245303018127, 20.294416137459283, 26.711197298908417, 77.57390856322989, 41.246590036304, 24.46049390420674, 545.2761778916097, 607.71394679463, 64.78027472317957, 458.22630409848534, 85.88408282553056, 97.68624350535576, 23.464825612279576, 39.24681094942564, 23.670778862829284, 54.62856679163151, 26.13270445419278, 17.000996868663847, 14.951918091558852, 62.89283403680115, 22.931993097600767, 29.1836462714906, 24.979564181230003, 21.37726800178023, 19.484571429194684, 42.9873476742669, 20.97280999982526, 21.212183547237554, 20.33394411655428, 22.689221072690657, 19.945246517717916, 76.5727179368592, 47.43645010571853, 23.763299199733037, 17.38959210123258, 11.926560841673076, 11.015981200983024, 9.195168795047763, 8.284729589760483, 8.284640413279723, 11.583846497809816, 27.332984572179452, 7.374043218164323, 7.373917528478842, 7.373730047216141, 6.463809048565089, 6.463726893854468, 6.463016992893454, 66.77553978550864, 13.672729022326841, 32.323966099338584, 5.553212204538196, 5.553161998881706, 5.5530500016479944, 5.550624331153611, 12.73639142223732, 4.6428298755890385, 4.6428298755890385, 4.642812672252199, 4.642812672252199, 4.642812672252199, 16.373821428627032, 34.49792860391711, 19.42069950104911, 22.18194460341873, 16.314752893867006, 121.68065918595643, 100.11171371128444, 141.13474860836865, 29.945920058743408, 222.93558448480013, 17.220922160732997, 23.623470477900785, 20.074954338068252, 69.79168216567999, 55.42603924865887, 17.90973955472841, 20.01524260916353, 677.4279817170974, 544.0711973345236, 523.507679465043, 35.23752041778482, 34.352176316795926, 25.73564140525953, 21.018701310008037, 29.213639311944014, 48.638796232677116, 22.262713216615122, 32.46863703385842, 24.816668642722792, 38.10897781989606, 44.170211934166225, 42.465210987481115, 46.75898129662113, 22.655908470358888, 12.561304647500975, 10.779388738927194, 10.779228709352873, 9.888528536695555, 9.888482025637007, 8.997549297686955, 8.997489385136964, 8.106719840053337, 8.106693825393473, 7.215762674089473, 14.312997827895833, 6.324944647139734, 5.434121101928813, 5.434018619935405, 5.43388854663608, 4.543187585655735, 4.543084709500814, 8.994949408346507, 3.6523001862796898, 3.6520743317326803, 3.65192967445737, 3.6511689427370753, 7.215689360048035, 7.2128119810023605, 6.324821668747646, 10.720810819818443, 2.761364699199046, 2.7613534655959224, 2.7612533485715938, 2.7612454653413314, 5.434046999564349, 29.08692812921795, 4.541103259574429, 4.5431611768343565, 17.922823563684723, 85.24270582017952, 100.29659800773854, 49.7976024691364, 352.3695958446942, 25.35358636503608, 249.91391350642877, 236.61569868383907, 33.62379651749557, 39.79069619353271, 31.46094715619552, 49.751031498039886, 23.05355303071458, 29.20397833214994, 21.66239465641972, 25.96131877575755, 18.2761247176962, 13.667231984451728, 23.712941096051633, 14.938809638900455, 12.254517705328125, 16.959052941404767, 16.991795149975463, 13.471491377043234, 15.220395470571354, 13.023373882731057, 11.761286060871875, 6.857664491790485, 6.857664491790485, 6.011057114376244, 6.008752381586784, 5.164356973213824, 4.3174825604073375, 4.317455391108708, 4.31746781135951, 4.31713634591623, 3.470962901014386, 3.4709062336201013, 3.470759131274664, 3.4707447703596745, 2.624441883156502, 2.624441883156502, 2.624441883156502, 2.624441883156502, 2.6244407187579895, 2.624437613695289, 2.624437613695289, 2.624437613695289, 2.6244327620348193, 2.6244327620348193, 2.6239761237514245, 2.6239966947918156, 5.125999357408648, 6.0099944066669915, 4.317787632817664, 1.7777535800456283, 1.7777535800456283, 7.567489587785689, 3.470973768733838, 6.857652071539683, 14.154713986080495, 6.857844585427116, 6.010856449699222, 12.209629741502454, 9.13598639418516, 19.048365771070582, 3.4694410321582945, 12.99943737133463, 4.82905677749837, 114.62792298117074, 99.14422352889227, 15.190559797910652, 89.08613675598801, 23.51446905257552, 20.178206488439475, 16.804333852343404, 17.27975155495109, 6.939019463341086, 7.288016090628526, 6.67887808655735, 12.412495131712433, 10.431182568076098, 7.577907849411602, 7.1964283849483675, 7.097810817314235, 6.177179133252478, 17.537295569700348, 17.537180395702404, 17.537180395702404, 15.875046844371784, 15.875046844371784, 15.875046844371784, 15.875046844371784, 15.875046844371784, 15.043881635115207, 13.381508361160957, 13.381227122328768, 11.719191334973146, 9.22570642106369, 8.394542551039647, 6.732171955550466, 5.901043575188581, 5.069883053245874, 5.069892427873613, 5.069848233199984, 4.238663270263527, 4.238514615452227, 3.407435451885975, 3.406811369525022, 2.5763934520225478, 2.5763934520225478, 2.576385918839543, 2.576371019877599, 2.5763770464240032, 2.5763770464240032, 2.5763611430376594, 17.537156289516787, 19.19949876112275, 19.19969161060768, 20.776352663138418, 22.406166515720372, 6.574161265766334, 4.238654565252054, 9.105660295160023, 10.598115762868265, 89.33044203204041, 94.18571708937289, 73.36666165764788, 17.11797650630155, 10.333262440735478, 8.296930578933202, 6.612184755878306, 40.61445627033978, 7.232646210803248, 7.232404386968114, 6.437823982316313, 5.642704794159835, 4.848197903953914, 4.848197903953914, 4.848197903953914, 4.053327794347623, 7.232448882553779, 3.2584644558087157, 7.137316836755369, 2.463705101518916, 9.022715229630895, 1.668951309177324, 1.668951309177324, 1.668951309177324, 1.6689471981721267, 1.6689469563482915, 1.6689308750632552, 1.6688933923688096, 1.6688933923688096, 1.6688933923688096, 1.6688933923688096, 1.6688933923688096, 1.6688920623377164, 1.668862318005995, 1.6688369265033058, 1.6688369265033058, 1.6688369265033058, 6.28940411985561, 2.462565627607768, 3.258687901032379, 7.757038295403679, 7.939561122390213, 51.0373769682732, 3.8860509928708997, 47.63925296025532, 3.8064244495573987, 4.053506018514116, 51.265821174256196, 3.9908356788724886, 4.09119740692949, 3.1964912942837773, 3.2291384793221063, 2.34281011162075, 6.507097805423925, 4.858160078666064, 4.569313598791153, 5.273503155756167, 4.779678571211918, 3.702559177776987, 4.052611995795629, 23.636321045084237, 22.065640342065702, 20.49515113876712, 19.709993421250026, 19.709993421250026, 18.924702717816302, 17.354197556207723, 16.568936996248436, 9.501569792295404, 8.71595548979788, 7.931042466367387, 23.636322818229793, 8.715968788389542, 3.2194514012123614, 3.2194491847804176, 3.2194491847804176, 3.2191754554353524, 3.2190183104105334, 3.2185180617208062, 11.739625246189304, 2.4341826404548814, 2.4340979727546266, 2.433764399747077, 4.004568558024882, 1.6489063438287923, 1.6489063438287923, 1.6489063438287923, 1.6486215323240077, 1.6484678227687015, 1.6484678227687015, 32.99585921869942, 12.74776931584934, 7.317261926467085, 19.449711612074314, 2.4317691677112236, 9.993270147301242, 21.92630833749309, 14.936976382846344, 8.523085128335188, 3.21925369548297, 8.423210045226988, 36.125450484541865, 31.10482785453574, 30.381749736047542, 7.348922770212201, 6.163658304482469, 5.555101894673822, 10.797743943423209, 10.031897645036873, 8.500394241633336, 6.968774707340616, 6.202963402036783, 18.434437384576427, 10.797473227708025, 10.018388007954762, 4.671118143134954, 4.671101992481492, 6.191149583568247, 9.237166287472016, 2.373901491966465, 2.373901491966465, 2.3738793809527956, 2.372652700368373, 1.6080812461223224, 1.6080812461223224, 1.6080812461223224, 1.6080812461223224, 1.6080653838733858, 1.6080637495810712, 1.6079936672812245, 1.6079005126192882, 1.6079003203496043, 1.6074814608428387, 1.6074104171945716, 2.3739101441022483, 0.8422390815341949, 0.8422390815341949, 1.6080842263024255, 11.122239796479152, 5.121295689661402, 13.859790939967361, 3.905310683224803, 11.04647015937739, 3.02724214606253, 10.013034450871274, 6.475422234175545, 7.4690719614946115, 34.478451927772866, 2.935444139017227, 31.31005364725612, 27.981963857930914, 3.7318430515520986, 3.737472707901925, 4.453975299105654, 4.638187345264048, 2.9910387258989184, 4.280970652832211, 4.230467943993978, 6.050781408118995, 4.556792702522701, 2.3158789331109215, 2.3158789331109215, 1.5687796126748614, 1.5687796126748614, 1.5687796126748614, 1.5687796126748614, 1.5687796126748614, 1.5687796126748614, 1.5687796126748614, 1.5687777167076742, 1.5686106992345417, 1.5685645065794338, 1.5685420996944934, 1.5684052453357038, 1.5683619828117035, 1.56810688904469, 1.56804380504555, 1.5680146760951277, 1.568040185471829, 3.062704372468749, 2.3158909983566587, 2.3158915154386186, 3.0629377487934355, 2.1569898160315137, 2.1466264593859354, 0.821660729304642, 0.821660729304642, 0.821660729304642, 1.56872204421663, 1.5687927120845189, 1.5687653067406304, 2.3159096133072246, 3.0630873578405757, 6.838255866889775, 31.438814830602386, 32.4262483305811, 26.816358579401253, 3.062878801449977, 2.31590633845481, 2.315748800817614, 2.9415941252020854, 2.3159468432083563, 2.315518354624035, 3.0630253080053564, 3.710501549668655, 5.306390562990266, 2.9961417906222483, 2.31594753265097, 2.315748456096307, 2.4959994354746042, 4.902965630720577, 2.751939665656925, 2.6360879695644615, 3.120117016669519, 3.1258800674761846, 2.6662259192518833, 2.4340342293359094, 2.3537439832503595, 2.315950807503384, 2.3159411553067946, 4.171511840108674, 4.171227326591874, 2.8036401865584675, 2.1198337058443633, 2.11983657488823, 1.436083530116147, 1.4360820955942135, 1.4360488625027552, 1.4358554411287288, 1.4355408026513257, 2.119875546067422, 0.7521778880733933, 0.7521778880733933, 0.7521778880733933, 0.7521778880733933, 0.7521778880733933, 0.7521778880733933, 0.7521778880733933, 0.7521778880733933, 0.7521778880733933, 0.7521778880733933, 0.7521778880733933, 0.7521778880733933, 0.7521778880733933, 0.7521778880733933, 0.7521777685298988, 0.7521777685298988, 0.7521777685298988, 0.7521777685298988, 0.7521777685298988, 2.119856897282287, 1.4359344593785628, 1.4361009834663372, 1.4360972776180092, 1.4352207847166722, 1.4361129378157826, 1.4361018202707985, 2.6888578704015735, 1.9292942863820757, 2.119358639997403, 2.1200209109566783, 1.4360144339763525, 1.43612011042545, 1.4361329015793565, 1.4361129378157826, 1.435156948490634, 6.7975008304289295, 2.0672969699887047, 1.4360181398246805, 2.0296135133189566, 20.8294918225675, 14.969346355545762, 14.458961622236085, 2.218939805399525, 2.5724399601535604, 2.0191460458575747, 2.871803169835176, 1.8595155532343268, 2.8282384123252795, 2.237763124036253, 1.5735170671456804, 1.5392674973541238, 1.5097657169883025, 1.4947082575138646, 1.454588504427144, 1.452520760603573], \"Total\": [2018.0, 1652.0, 1566.0, 320.0, 183.0, 41.0, 82.0, 53.0, 277.0, 128.0, 156.0, 77.0, 44.0, 129.0, 46.0, 223.0, 24.0, 26.0, 62.0, 57.0, 44.0, 22.0, 84.0, 30.0, 50.0, 137.0, 137.0, 21.0, 37.0, 66.0, 14.534082517004533, 13.619561219165895, 13.619405594361998, 11.79021852884048, 9.046939493416879, 9.046939493416879, 9.046939493416879, 9.046939493416879, 9.04662343184445, 9.046524184478239, 15.299571646069845, 14.303347173413659, 7.217883112284336, 7.217659135659706, 7.217499616471193, 6.3033516567418175, 6.303217335364201, 6.3032075623396, 6.303069741700437, 5.388792630288771, 5.3886428757161875, 5.388021228525194, 4.474286931781089, 4.474286569005951, 4.47428185292915, 4.47428185292915, 4.47414954506766, 4.474177760958042, 4.47402165593046, 4.4739324234445705, 9.936432829174555, 18.79773989006413, 12.40640226308786, 13.571124570860894, 24.48134249367244, 19.467819112687806, 21.791018458413802, 8.95647926988774, 15.156130753273303, 137.6006562228859, 43.06957148313399, 15.34986275292015, 28.06244769395893, 38.61698493839052, 137.90575165400244, 66.84014691229375, 36.388775470063344, 1652.2805832869533, 2018.2822298861681, 129.40716686215166, 1566.564956360146, 200.52291923322085, 277.75552271928126, 38.40279940640218, 79.57110480782184, 40.956687756305904, 139.32446697355616, 48.155151031151455, 25.67696997966298, 21.48994495392476, 223.1247515180658, 45.87139917135928, 82.21285382885715, 58.8398962102122, 46.160478464451224, 37.595261251928825, 320.55778890831294, 47.032202528722216, 66.14761720236447, 57.172506059124345, 119.11219326528483, 62.604079468630815, 77.29879721978088, 48.162511229586116, 24.489349192184925, 18.115644520985494, 12.65260596697846, 11.74202307973247, 9.92120065435352, 9.010754206958705, 9.010677190562516, 12.609066668508506, 29.80364623960066, 8.100082855868335, 8.099964434771465, 8.099786749421087, 7.189830026334084, 7.189747224779849, 7.189079344920772, 74.50490108113044, 15.314437041637095, 36.25461583988102, 6.279240659106429, 6.279200777580607, 6.279078587336554, 6.276922416679807, 14.45110267681153, 5.368844481327052, 5.368844481327052, 5.368827277990213, 5.368827277990213, 5.368827277990213, 18.984186651861414, 42.101050120215504, 23.300205338530635, 26.745925726947767, 19.568672420308044, 156.4231044827263, 128.15138958560578, 183.733072783544, 37.10269709238447, 320.55778890831294, 20.874680336355013, 29.874018566214843, 25.016596225507243, 110.191192590307, 85.49456748516239, 22.809154944508574, 26.30663548693194, 2018.2822298861681, 1566.564956360146, 1652.2805832869533, 57.172506059124345, 57.16615534214854, 38.11181186276038, 28.884334532601564, 47.62987383879488, 119.11219326528483, 34.81393696797981, 84.93274520904669, 44.958374142976, 139.32446697355616, 223.1247515180658, 200.52291923322085, 277.75552271928126, 46.2309921256312, 13.289294743052631, 11.507375736193808, 11.507218502560143, 10.61651690745654, 10.616471498098496, 9.725539441649676, 9.725482786000015, 8.834707936329522, 8.834688320670466, 7.943758288978131, 15.900054558576254, 7.052932070335656, 6.1620967291453255, 6.162005573690836, 6.161876075501092, 5.271163448759839, 5.271064063889224, 10.56958796817214, 4.3802746998873445, 4.380067512681981, 4.379927779015727, 4.379184968911698, 8.709341784508783, 8.854523209278794, 7.799450889544622, 13.336857320928162, 3.4893392128067013, 3.4893279792035776, 3.489241704408413, 3.4892406525020587, 6.9085749872758395, 38.85053956843316, 5.952596305960556, 6.10177838413331, 31.139641298456905, 223.1247515180658, 277.75552271928126, 129.40716686215166, 2018.2822298861681, 58.8398962102122, 1566.564956360146, 1652.2805832869533, 119.11219326528483, 200.52291923322085, 139.32446697355616, 320.55778890831294, 82.21285382885715, 137.90575165400244, 79.57110480782184, 128.15138958560578, 66.14761720236447, 35.19888112322377, 183.733072783544, 50.28984145836732, 30.458196723841585, 110.191192590307, 137.6006562228859, 51.82234627072888, 156.4231044827263, 85.49456748516239, 62.604079468630815, 7.590072364071951, 7.590072364071951, 6.743461334504939, 6.7414955785730335, 5.8967629485930075, 5.0498931084358025, 5.04986975122528, 5.049885077649903, 5.049565469587742, 4.203371586253972, 4.203313279350224, 4.203171498417489, 4.203156012694607, 3.35684123785402, 3.35684123785402, 3.35684123785402, 3.35684123785402, 3.3568400734555075, 3.356836968392807, 3.356836968392807, 3.356836968392807, 3.356832504735077, 3.356832504735077, 3.356392429440918, 3.3564232466337383, 6.657717610136235, 8.110112177161252, 5.835120087404087, 2.5101529347431466, 2.5101529347431466, 10.79181555847103, 4.950332748263269, 10.014030217230037, 21.881436482871145, 10.332717761221568, 10.400411139979848, 28.017766244751193, 19.940157864001943, 57.42134371935634, 5.092169615158877, 38.52689960770214, 9.398759123432825, 2018.2822298861681, 1652.2805832869533, 66.84014691229375, 1566.564956360146, 277.75552271928126, 200.52291923322085, 137.90575165400244, 183.733072783544, 22.27525278024368, 25.67696997966298, 22.441945555972712, 223.1247515180658, 129.40716686215166, 41.889182163563596, 38.61698493839052, 62.604079468630815, 48.155151031151455, 18.27125049110827, 18.271141827554274, 18.271141827554274, 16.608996852022397, 16.608996852022397, 16.608996852022397, 16.608996852022397, 16.608996852022397, 15.77783164276582, 14.115460161883552, 14.115188816458963, 12.453142628804658, 9.959657443969604, 9.12849359193391, 7.466124267219407, 6.634994747590697, 5.80383406248386, 5.8038449982378895, 5.80380042418225, 4.972616163422807, 4.972501508840046, 4.141392325103627, 4.140832356869933, 3.3103434596731613, 3.3103434596731613, 3.3103386685190603, 3.310322185023134, 3.310330538901463, 3.310330538901463, 3.3103125976424894, 23.61577947352456, 26.532068557438297, 26.98897885119144, 30.74856537055113, 37.02370467749393, 11.013967607283766, 6.542989001432739, 19.066106034164964, 24.022011932809946, 1652.2805832869533, 2018.2822298861681, 1566.564956360146, 84.93274520904669, 45.87139917135928, 223.1247515180658, 66.84014691229375, 41.35206313396328, 7.970233959609186, 7.970005899740013, 7.1754119701385735, 6.380304051899385, 5.585785761494993, 5.585785761494993, 5.585785761494993, 4.790919868833387, 8.860270492349185, 3.9960632812093793, 8.82275361783101, 3.2012927464142287, 12.261222127019398, 2.4065362770227714, 2.4065362770227714, 2.4065362770227714, 2.4065321660175742, 2.406531924193739, 2.4065177532500126, 2.4064820739547637, 2.4064820739547637, 2.4064820739547637, 2.4064820739547637, 2.4064820739547637, 2.4064807439236704, 2.406450582791953, 2.406426211640237, 2.406426211640237, 2.406426211640237, 12.667148463983631, 4.113166346076934, 6.589276231544585, 27.872590398199165, 29.22063743610152, 1652.2805832869533, 12.098312239398322, 1566.564956360146, 12.0664936898627, 13.706400874792354, 2018.2822298861681, 13.721862164788487, 14.938573014850544, 9.182729467425338, 9.410543099803379, 4.886469972996862, 57.42134371935634, 57.16615534214854, 62.604079468630815, 223.1247515180658, 119.11219326528483, 24.85507815648615, 79.57110480782184, 24.374861567679453, 22.804196755855166, 21.233698782189176, 20.44853420801894, 20.44853420801894, 19.663244529945658, 18.09273866598464, 17.307478093217394, 10.240110077198189, 9.454519065289277, 8.66958256323436, 26.75159165925539, 10.220174892452718, 3.957991386035496, 3.957989169603552, 3.957989169603552, 3.9577260854414584, 3.957584075956056, 3.95713287834217, 15.239095792551868, 3.172722625278016, 3.1726411488653077, 3.1723209844736795, 5.508764555727259, 2.3874463286519267, 2.3874463286519267, 2.3874463286519267, 2.3871870853978168, 2.3870243025239164, 2.3870243025239164, 53.6812868194416, 21.593160966258104, 13.086179266862942, 46.452266519728, 3.854112198103169, 22.329868644627, 82.21285382885715, 62.604079468630815, 27.45970328335498, 5.738998244052724, 51.82234627072888, 2018.2822298861681, 1652.2805832869533, 1566.564956360146, 84.93274520904669, 137.6006562228859, 139.32446697355616, 11.538236976558268, 10.772393866225615, 9.240881684959891, 7.709262025724798, 6.943450808724647, 20.839053204121324, 12.332514859447128, 11.454769474397592, 5.4116175874635974, 5.411604958340195, 7.72869266527911, 11.840431752925438, 3.1143865376099633, 3.1143865376099633, 3.1143675780854645, 3.113236800746182, 2.348566291765821, 2.348566291765821, 2.348566291765821, 2.348566291765821, 2.3485522670832872, 2.3485498853275044, 2.3484845233390277, 2.348397851174977, 2.348397658905293, 2.3479884714610524, 2.347922962942527, 3.960716566965238, 1.5827241271776935, 1.5827241271776935, 3.0322798873185217, 21.461982313945683, 11.441190097481286, 44.91329765030141, 8.88779734800698, 44.59565686370461, 6.644503895601123, 50.28984145836732, 29.202317192313345, 57.42134371935634, 1652.2805832869533, 8.99794371630141, 2018.2822298861681, 1566.564956360146, 22.27525278024368, 28.06244769395893, 66.14761720236447, 84.93274520904669, 11.668722391162433, 137.6006562228859, 200.52291923322085, 6.793171703694124, 5.299167382834344, 3.0582361450554743, 3.0582361450554743, 2.3111368246194144, 2.3111368246194144, 2.3111368246194144, 2.3111368246194144, 2.3111368246194144, 2.3111368246194144, 2.3111368246194144, 2.311134928652227, 2.3109868023320477, 2.3109305944803022, 2.3109132432508335, 2.3107755109796635, 2.310739063368784, 2.310491209694708, 2.310429653552601, 2.31040199387915, 2.3104489188894357, 4.635950335467936, 3.889001741924039, 3.9045812582318127, 5.6333425627500295, 3.9782740229295928, 4.0046796521310215, 1.5640179412491948, 1.5640179412491948, 1.5640179412491948, 3.0767389980572313, 3.142000549655908, 3.157299611684313, 4.886229436310809, 8.3709961019637, 41.889182163563596, 1566.564956360146, 2018.2822298861681, 1652.2805832869533, 12.901644030201268, 6.554499305957935, 7.462289057796561, 16.557073783317847, 8.0907369290675, 8.219428228996879, 21.881436482871145, 44.91329765030141, 156.4231044827263, 22.673940712127727, 9.373874786144313, 11.134170730211915, 15.772176704262824, 277.75552271928126, 24.13889977866831, 22.809154944508574, 129.40716686215166, 200.52291923322085, 38.85053956843316, 66.84014691229375, 37.02370467749393, 22.616420606362222, 14.70624559963809, 4.920199865920128, 4.919929163889943, 3.5523285298118354, 2.8685177235701604, 2.8685253274738605, 2.1847612729657198, 2.1847598384437865, 2.184729124290748, 2.1845432906669267, 2.184241591169924, 3.663057076049158, 1.5008556309229661, 1.5008556309229661, 1.5008556309229661, 1.5008556309229661, 1.5008556309229661, 1.5008556309229661, 1.5008556309229661, 1.5008556309229661, 1.5008556309229661, 1.5008556309229661, 1.5008556309229661, 1.5008556309229661, 1.5008556309229661, 1.5008556309229661, 1.5008555113794717, 1.5008555113794717, 1.5008555113794717, 1.5008555113794717, 1.5008555113794717, 4.56127604965498, 3.0146396371979574, 3.0748752328741844, 3.07502371806428, 3.074218919898545, 3.097646033994768, 3.0980930068036123, 6.309369284576746, 4.729827981417748, 5.610703124308299, 6.278148559549281, 3.810170598667688, 3.8208037401091213, 3.8443743223832687, 3.9077746754055465, 4.0119236863444465, 44.59565686370461, 8.030614138540408, 4.5400040154528405, 9.635652978798607, 2018.2822298861681, 1652.2805832869533, 1566.564956360146, 20.874680336355013, 51.82234627072888, 18.26483020729254, 119.11219326528483, 12.381235458287875, 223.1247515180658, 62.604079468630815, 32.53311274166709, 23.50023771892806, 128.15138958560578, 57.42134371935634, 137.6006562228859, 38.61698493839052], \"Category\": [\"Default\", \"Default\", \"Default\", \"Default\", \"Default\", \"Default\", \"Default\", \"Default\", \"Default\", \"Default\", \"Default\", \"Default\", \"Default\", \"Default\", \"Default\", \"Default\", \"Default\", \"Default\", \"Default\", \"Default\", \"Default\", \"Default\", \"Default\", \"Default\", \"Default\", \"Default\", \"Default\", \"Default\", \"Default\", \"Default\", \"Topic1\", \"Topic1\", \"Topic1\", \"Topic1\", \"Topic1\", \"Topic1\", \"Topic1\", \"Topic1\", \"Topic1\", \"Topic1\", \"Topic1\", \"Topic1\", \"Topic1\", \"Topic1\", \"Topic1\", \"Topic1\", \"Topic1\", \"Topic1\", \"Topic1\", \"Topic1\", \"Topic1\", \"Topic1\", \"Topic1\", \"Topic1\", \"Topic1\", \"Topic1\", \"Topic1\", \"Topic1\", \"Topic1\", \"Topic1\", \"Topic1\", \"Topic1\", \"Topic1\", \"Topic1\", \"Topic1\", \"Topic1\", \"Topic1\", \"Topic1\", \"Topic1\", \"Topic1\", \"Topic1\", \"Topic1\", \"Topic1\", \"Topic1\", \"Topic1\", \"Topic1\", \"Topic1\", \"Topic1\", \"Topic1\", \"Topic1\", \"Topic1\", \"Topic1\", \"Topic1\", \"Topic1\", \"Topic1\", \"Topic1\", \"Topic1\", \"Topic1\", \"Topic1\", \"Topic1\", \"Topic1\", \"Topic1\", \"Topic1\", \"Topic1\", \"Topic1\", \"Topic1\", \"Topic1\", \"Topic1\", \"Topic1\", \"Topic1\", \"Topic1\", \"Topic1\", \"Topic2\", \"Topic2\", \"Topic2\", \"Topic2\", \"Topic2\", \"Topic2\", \"Topic2\", \"Topic2\", \"Topic2\", \"Topic2\", \"Topic2\", \"Topic2\", \"Topic2\", \"Topic2\", \"Topic2\", \"Topic2\", \"Topic2\", \"Topic2\", \"Topic2\", \"Topic2\", \"Topic2\", \"Topic2\", \"Topic2\", \"Topic2\", \"Topic2\", \"Topic2\", \"Topic2\", \"Topic2\", \"Topic2\", \"Topic2\", \"Topic2\", \"Topic2\", \"Topic2\", \"Topic2\", \"Topic2\", \"Topic2\", \"Topic2\", \"Topic2\", \"Topic2\", \"Topic2\", \"Topic2\", \"Topic2\", \"Topic2\", \"Topic2\", \"Topic2\", \"Topic2\", \"Topic2\", \"Topic2\", \"Topic2\", \"Topic2\", \"Topic2\", \"Topic2\", \"Topic2\", \"Topic2\", \"Topic2\", \"Topic2\", \"Topic2\", \"Topic2\", \"Topic2\", \"Topic2\", \"Topic2\", \"Topic2\", \"Topic2\", \"Topic2\", \"Topic3\", \"Topic3\", \"Topic3\", \"Topic3\", \"Topic3\", \"Topic3\", \"Topic3\", \"Topic3\", \"Topic3\", \"Topic3\", \"Topic3\", \"Topic3\", \"Topic3\", \"Topic3\", \"Topic3\", \"Topic3\", \"Topic3\", \"Topic3\", \"Topic3\", \"Topic3\", \"Topic3\", \"Topic3\", \"Topic3\", \"Topic3\", \"Topic3\", \"Topic3\", \"Topic3\", \"Topic3\", \"Topic3\", \"Topic3\", \"Topic3\", \"Topic3\", \"Topic3\", \"Topic3\", \"Topic3\", \"Topic3\", \"Topic3\", \"Topic3\", \"Topic3\", \"Topic3\", \"Topic3\", \"Topic3\", \"Topic3\", \"Topic3\", \"Topic3\", \"Topic3\", \"Topic3\", \"Topic3\", \"Topic3\", \"Topic3\", \"Topic3\", \"Topic3\", \"Topic3\", \"Topic3\", \"Topic3\", \"Topic3\", \"Topic3\", \"Topic3\", \"Topic3\", \"Topic3\", \"Topic3\", \"Topic4\", \"Topic4\", \"Topic4\", \"Topic4\", \"Topic4\", \"Topic4\", \"Topic4\", \"Topic4\", \"Topic4\", \"Topic4\", \"Topic4\", \"Topic4\", \"Topic4\", \"Topic4\", \"Topic4\", \"Topic4\", \"Topic4\", \"Topic4\", \"Topic4\", \"Topic4\", \"Topic4\", \"Topic4\", \"Topic4\", \"Topic4\", \"Topic4\", \"Topic4\", \"Topic4\", \"Topic4\", \"Topic4\", \"Topic4\", \"Topic4\", \"Topic4\", \"Topic4\", \"Topic4\", \"Topic4\", \"Topic4\", \"Topic4\", \"Topic4\", \"Topic4\", \"Topic4\", \"Topic4\", \"Topic4\", \"Topic4\", \"Topic4\", \"Topic4\", \"Topic4\", \"Topic4\", \"Topic4\", \"Topic4\", \"Topic4\", \"Topic4\", \"Topic4\", \"Topic4\", \"Topic4\", \"Topic4\", \"Topic4\", \"Topic4\", \"Topic4\", \"Topic4\", \"Topic5\", \"Topic5\", \"Topic5\", \"Topic5\", \"Topic5\", \"Topic5\", \"Topic5\", \"Topic5\", \"Topic5\", \"Topic5\", \"Topic5\", \"Topic5\", \"Topic5\", \"Topic5\", \"Topic5\", \"Topic5\", \"Topic5\", \"Topic5\", \"Topic5\", \"Topic5\", \"Topic5\", \"Topic5\", \"Topic5\", \"Topic5\", \"Topic5\", \"Topic5\", \"Topic5\", \"Topic5\", \"Topic5\", \"Topic5\", \"Topic5\", \"Topic5\", \"Topic5\", \"Topic5\", \"Topic5\", \"Topic5\", \"Topic5\", \"Topic5\", \"Topic5\", \"Topic5\", \"Topic5\", \"Topic5\", \"Topic5\", \"Topic5\", \"Topic5\", \"Topic5\", \"Topic6\", \"Topic6\", \"Topic6\", \"Topic6\", \"Topic6\", \"Topic6\", \"Topic6\", \"Topic6\", \"Topic6\", \"Topic6\", \"Topic6\", \"Topic6\", \"Topic6\", \"Topic6\", \"Topic6\", \"Topic6\", \"Topic6\", \"Topic6\", \"Topic6\", \"Topic6\", \"Topic6\", \"Topic6\", \"Topic6\", \"Topic6\", \"Topic6\", \"Topic6\", \"Topic6\", \"Topic6\", \"Topic6\", \"Topic6\", \"Topic6\", \"Topic6\", \"Topic6\", \"Topic6\", \"Topic6\", \"Topic6\", \"Topic6\", \"Topic6\", \"Topic6\", \"Topic6\", \"Topic6\", \"Topic6\", \"Topic6\", \"Topic6\", \"Topic6\", \"Topic6\", \"Topic6\", \"Topic6\", \"Topic6\", \"Topic6\", \"Topic6\", \"Topic6\", \"Topic6\", \"Topic7\", \"Topic7\", \"Topic7\", \"Topic7\", \"Topic7\", \"Topic7\", \"Topic7\", \"Topic7\", \"Topic7\", \"Topic7\", \"Topic7\", \"Topic7\", \"Topic7\", \"Topic7\", \"Topic7\", \"Topic7\", \"Topic7\", \"Topic7\", \"Topic7\", \"Topic7\", \"Topic7\", \"Topic7\", \"Topic7\", \"Topic7\", \"Topic7\", \"Topic7\", \"Topic7\", \"Topic7\", \"Topic7\", \"Topic7\", \"Topic7\", \"Topic7\", \"Topic7\", \"Topic7\", \"Topic7\", \"Topic7\", \"Topic7\", \"Topic7\", \"Topic7\", \"Topic7\", \"Topic7\", \"Topic7\", \"Topic7\", \"Topic7\", \"Topic7\", \"Topic7\", \"Topic7\", \"Topic8\", \"Topic8\", \"Topic8\", \"Topic8\", \"Topic8\", \"Topic8\", \"Topic8\", \"Topic8\", \"Topic8\", \"Topic8\", \"Topic8\", \"Topic8\", \"Topic8\", \"Topic8\", \"Topic8\", \"Topic8\", \"Topic8\", \"Topic8\", \"Topic8\", \"Topic8\", \"Topic8\", \"Topic8\", \"Topic8\", \"Topic8\", \"Topic8\", \"Topic8\", \"Topic8\", \"Topic8\", \"Topic8\", \"Topic8\", \"Topic8\", \"Topic8\", \"Topic8\", \"Topic8\", \"Topic8\", \"Topic8\", \"Topic8\", \"Topic8\", \"Topic8\", \"Topic8\", \"Topic8\", \"Topic8\", \"Topic8\", \"Topic8\", \"Topic8\", \"Topic8\", \"Topic8\", \"Topic8\", \"Topic8\", \"Topic8\", \"Topic8\", \"Topic9\", \"Topic9\", \"Topic9\", \"Topic9\", \"Topic9\", \"Topic9\", \"Topic9\", \"Topic9\", \"Topic9\", \"Topic9\", \"Topic9\", \"Topic9\", \"Topic9\", \"Topic9\", \"Topic9\", \"Topic9\", \"Topic9\", \"Topic9\", \"Topic9\", \"Topic9\", \"Topic9\", \"Topic9\", \"Topic9\", \"Topic9\", \"Topic9\", \"Topic9\", \"Topic9\", \"Topic9\", \"Topic9\", \"Topic9\", \"Topic9\", \"Topic9\", \"Topic9\", \"Topic9\", \"Topic9\", \"Topic9\", \"Topic9\", \"Topic9\", \"Topic9\", \"Topic9\", \"Topic9\", \"Topic9\", \"Topic9\", \"Topic9\", \"Topic9\", \"Topic9\", \"Topic9\", \"Topic9\", \"Topic9\", \"Topic9\", \"Topic9\", \"Topic9\", \"Topic9\", \"Topic9\", \"Topic9\", \"Topic9\", \"Topic9\", \"Topic9\", \"Topic9\", \"Topic9\", \"Topic9\", \"Topic9\", \"Topic10\", \"Topic10\", \"Topic10\", \"Topic10\", \"Topic10\", \"Topic10\", \"Topic10\", \"Topic10\", \"Topic10\", \"Topic10\", \"Topic10\", \"Topic10\", \"Topic10\", \"Topic10\", \"Topic10\", \"Topic10\", \"Topic10\", \"Topic10\", \"Topic10\", \"Topic10\", \"Topic10\", \"Topic10\", \"Topic10\", \"Topic10\", \"Topic10\", \"Topic10\", \"Topic10\", \"Topic10\", \"Topic10\", \"Topic10\", \"Topic10\", \"Topic10\", \"Topic10\", \"Topic10\", \"Topic10\", \"Topic10\", \"Topic10\", \"Topic10\", \"Topic10\", \"Topic10\", \"Topic10\", \"Topic10\", \"Topic10\", \"Topic10\", \"Topic10\", \"Topic10\", \"Topic10\", \"Topic10\", \"Topic10\", \"Topic10\", \"Topic10\", \"Topic10\", \"Topic10\", \"Topic10\", \"Topic10\", \"Topic10\", \"Topic10\", \"Topic10\", \"Topic10\", \"Topic10\", \"Topic10\", \"Topic10\", \"Topic10\", \"Topic10\", \"Topic10\", \"Topic10\"], \"logprob\": [30.0, 29.0, 28.0, 27.0, 26.0, 25.0, 24.0, 23.0, 22.0, 21.0, 20.0, 19.0, 18.0, 17.0, 16.0, 15.0, 14.0, 13.0, 12.0, 11.0, 10.0, 9.0, 8.0, 7.0, 6.0, 5.0, 4.0, 3.0, 2.0, 1.0, -6.1122, -6.1808, -6.1808, -6.3338, -6.6187, -6.6187, -6.6187, -6.6187, -6.6187, -6.6188, -6.1123, -6.1808, -6.8669, -6.8669, -6.867, -7.0187, -7.0188, -7.0188, -7.0188, -7.1978, -7.1979, -7.198, -7.4161, -7.4161, -7.4161, -7.4161, -7.4162, -7.4162, -7.4162, -7.4162, -6.6218, -5.9989, -6.4201, -6.3338, -5.7653, -5.9898, -5.8829, -6.7443, -6.2588, -4.2313, -5.3263, -6.2611, -5.7272, -5.4524, -4.3863, -5.018, -5.5405, -2.4362, -2.3278, -4.5665, -2.6102, -4.2845, -4.1558, -5.582, -5.0677, -5.5733, -4.737, -5.4743, -5.9042, -6.0327, -4.5961, -5.605, -5.3639, -5.5195, -5.6752, -5.7679, -4.9766, -5.6943, -5.6829, -5.7252, -5.6156, -5.7445, -4.3665, -4.8454, -5.5366, -5.8489, -6.226, -6.3054, -6.4861, -6.5904, -6.5904, -6.2552, -5.3967, -6.7068, -6.7068, -6.7069, -6.8386, -6.8386, -6.8387, -4.5034, -6.0894, -5.229, -6.9904, -6.9904, -6.9904, -6.9909, -6.1603, -7.1695, -7.1695, -7.1695, -7.1695, -7.1695, -5.9091, -5.1639, -5.7384, -5.6055, -5.9127, -3.9034, -4.0985, -3.7551, -5.3054, -3.2979, -5.8587, -5.5425, -5.7053, -4.4593, -4.6897, -5.8194, -5.7083, -2.1865, -2.4057, -2.4442, -5.1427, -5.1681, -5.4569, -5.6594, -5.3301, -4.8204, -5.6019, -5.2245, -5.4933, -5.0643, -4.9167, -4.9561, -4.8598, -5.5844, -5.5967, -5.7497, -5.7497, -5.836, -5.836, -5.9304, -5.9304, -6.0347, -6.0347, -6.1511, -5.4662, -6.2829, -6.4347, -6.4347, -6.4347, -6.6137, -6.6137, -5.9307, -6.832, -6.8321, -6.8321, -6.8323, -6.1511, -6.1515, -6.2829, -5.7552, -7.1116, -7.1116, -7.1117, -7.1117, -6.4347, -4.7571, -6.6142, -6.6137, -5.2413, -3.6818, -3.5192, -4.2194, -2.2627, -4.8944, -2.6062, -2.6609, -4.6121, -4.4437, -4.6786, -4.2203, -4.9895, -4.753, -5.0518, -4.8707, -5.2218, -5.5124, -4.9613, -5.4234, -5.6215, -5.2966, -5.2946, -5.5268, -5.4047, -5.5606, -5.6625, -5.4934, -5.4934, -5.6252, -5.6256, -5.777, -5.9561, -5.9561, -5.9561, -5.9562, -6.1744, -6.1744, -6.1744, -6.1744, -6.4539, -6.4539, -6.4539, -6.4539, -6.4539, -6.4539, -6.4539, -6.4539, -6.4539, -6.4539, -6.4541, -6.4541, -5.7845, -5.6254, -5.956, -6.8434, -6.8434, -5.3949, -6.1744, -5.4934, -4.7687, -5.4934, -5.6252, -4.9166, -5.2066, -4.4718, -6.1748, -4.8539, -5.8441, -2.6771, -2.8222, -4.6981, -2.9292, -4.2612, -4.4142, -4.5972, -4.5693, -5.4816, -5.4326, -5.5198, -4.9001, -5.074, -5.3936, -5.4452, -5.459, -5.5979, -4.4067, -4.4067, -4.4067, -4.5063, -4.5063, -4.5063, -4.5063, -4.5063, -4.56, -4.6771, -4.6771, -4.8098, -5.049, -5.1434, -5.3641, -5.4959, -5.6477, -5.6477, -5.6477, -5.8268, -5.8268, -6.045, -6.0452, -6.3246, -6.3246, -6.3246, -6.3246, -6.3246, -6.3246, -6.3246, -4.4067, -4.3161, -4.3161, -4.2372, -4.1617, -5.3879, -5.8268, -5.0621, -4.9103, -2.7787, -2.7257, -2.9755, -4.4309, -4.9356, -5.1551, -5.3821, -3.2415, -4.967, -4.9671, -5.0835, -5.2153, -5.367, -5.367, -5.367, -5.5461, -4.9671, -5.7644, -4.9803, -6.044, -4.7459, -6.4335, -6.4335, -6.4335, -6.4335, -6.4335, -6.4335, -6.4335, -6.4335, -6.4335, -6.4335, -6.4335, -6.4335, -6.4335, -6.4335, -6.4335, -6.4335, -5.1068, -6.0444, -5.7643, -4.8971, -4.8738, -3.0131, -5.5883, -3.082, -5.609, -5.5461, -3.0086, -5.5617, -5.5368, -5.7836, -5.7734, -6.0943, -5.0728, -5.365, -5.4263, -5.283, -5.3813, -5.6366, -5.5463, -3.6957, -3.7645, -3.8383, -3.8774, -3.8774, -3.918, -4.0047, -4.051, -4.6071, -4.6934, -4.7877, -3.6957, -4.6934, -5.6893, -5.6893, -5.6893, -5.6894, -5.6894, -5.6896, -4.3955, -5.9689, -5.9689, -5.9691, -5.4711, -6.3584, -6.3584, -6.3584, -6.3586, -6.3587, -6.3587, -3.3621, -4.3132, -4.8683, -3.8907, -5.9699, -4.5566, -3.7708, -4.1547, -4.7157, -5.6894, -4.7275, -3.2715, -3.4211, -3.4447, -4.864, -5.0398, -5.1438, -4.337, -4.4106, -4.5762, -4.7749, -4.8913, -3.8021, -4.337, -4.4119, -5.1749, -5.1749, -4.8932, -4.4931, -5.8518, -5.8518, -5.8518, -5.8523, -6.2413, -6.2413, -6.2413, -6.2413, -6.2413, -6.2413, -6.2414, -6.2414, -6.2414, -6.2417, -6.2417, -5.8518, -6.888, -6.888, -6.2413, -4.3074, -5.0829, -4.0874, -5.354, -4.3142, -5.6087, -4.4125, -4.8483, -4.7056, -3.176, -5.6395, -3.2724, -3.3848, -5.3994, -5.3979, -5.2225, -5.182, -5.6207, -5.2622, -5.274, -4.8068, -5.0904, -5.7672, -5.7672, -6.1567, -6.1567, -6.1567, -6.1567, -6.1567, -6.1567, -6.1567, -6.1567, -6.1568, -6.1569, -6.1569, -6.157, -6.157, -6.1572, -6.1572, -6.1572, -6.1572, -5.4877, -5.7672, -5.7672, -5.4877, -5.8383, -5.8431, -6.8035, -6.8035, -6.8035, -6.1568, -6.1567, -6.1567, -5.7672, -5.4876, -4.6845, -3.159, -3.1281, -3.318, -5.4877, -5.7672, -5.7673, -5.5281, -5.7672, -5.7674, -5.4876, -5.2959, -4.9381, -5.5097, -5.7672, -5.7673, -5.6923, -5.0172, -5.5947, -5.6377, -5.4692, -5.4673, -5.6264, -5.7175, -5.751, -5.7672, -5.7672, -4.8128, -4.8129, -5.2102, -5.4898, -5.4898, -5.8792, -5.8792, -5.8792, -5.8794, -5.8796, -5.4898, -6.5259, -6.5259, -6.5259, -6.5259, -6.5259, -6.5259, -6.5259, -6.5259, -6.5259, -6.5259, -6.5259, -6.5259, -6.5259, -6.5259, -6.5259, -6.5259, -6.5259, -6.5259, -6.5259, -5.4898, -5.8793, -5.8792, -5.8792, -5.8798, -5.8792, -5.8792, -5.252, -5.584, -5.49, -5.4897, -5.8793, -5.8792, -5.8792, -5.8792, -5.8799, -4.3246, -5.5149, -5.8793, -5.5333, -3.2048, -3.5351, -3.5698, -5.4441, -5.2963, -5.5384, -5.1862, -5.6208, -5.2015, -5.4356, -5.7878, -5.8098, -5.8292, -5.8392, -5.8664, -5.8678], \"loglift\": [30.0, 29.0, 28.0, 27.0, 26.0, 25.0, 24.0, 23.0, 22.0, 21.0, 20.0, 19.0, 18.0, 17.0, 16.0, 15.0, 14.0, 13.0, 12.0, 11.0, 10.0, 9.0, 8.0, 7.0, 6.0, 5.0, 4.0, 3.0, 2.0, 1.0, 1.2469, 1.2433, 1.2433, 1.2346, 1.2145, 1.2145, 1.2145, 1.2145, 1.2145, 1.2145, 1.1955, 1.1944, 1.1921, 1.1921, 1.1921, 1.1758, 1.1758, 1.1758, 1.1758, 1.1535, 1.1535, 1.1534, 1.1211, 1.1211, 1.1211, 1.1211, 1.1211, 1.1211, 1.1211, 1.1211, 1.1176, 1.103, 1.0973, 1.0939, 1.0724, 1.0771, 1.0712, 1.099, 1.0584, 0.88, 0.9465, 1.0434, 0.974, 0.9295, 0.7228, 0.8154, 0.9009, 0.1895, 0.0978, 0.6061, 0.0688, 0.4502, 0.2531, 0.8055, 0.5913, 0.7498, 0.3618, 0.6868, 0.8858, 0.9353, 0.0318, 0.6048, 0.2624, 0.4413, 0.5283, 0.6408, -0.7111, 0.4905, 0.1608, 0.2643, -0.3601, 0.1543, 1.3214, 1.3156, 1.3007, 1.2899, 1.2717, 1.267, 1.2548, 1.2468, 1.2468, 1.246, 1.2443, 1.2369, 1.2369, 1.2369, 1.2244, 1.2244, 1.2244, 1.2213, 1.2174, 1.2161, 1.208, 1.208, 1.208, 1.2079, 1.2045, 1.1855, 1.1855, 1.1855, 1.1855, 1.1855, 1.1829, 1.1317, 1.1487, 1.1437, 1.149, 1.0797, 1.0839, 1.0671, 1.1165, 0.9677, 1.1384, 1.0961, 1.1108, 0.8741, 0.8974, 1.089, 1.0575, 0.2391, 0.2733, 0.1815, 0.8469, 0.8215, 0.9382, 1.0129, 0.842, 0.4352, 0.8837, 0.3692, 0.7366, 0.0345, -0.2888, -0.2214, -0.4509, 0.6176, 1.8519, 1.8429, 1.8429, 1.8372, 1.8372, 1.8305, 1.8305, 1.8223, 1.8223, 1.8121, 1.8031, 1.7993, 1.7825, 1.7825, 1.7825, 1.7596, 1.7596, 1.7469, 1.7265, 1.7265, 1.7265, 1.7264, 1.7201, 1.7032, 1.6987, 1.6899, 1.6743, 1.6743, 1.6743, 1.6743, 1.6682, 1.6188, 1.6376, 1.6133, 1.3559, 0.946, 0.8897, 0.9533, 0.1629, 1.0664, 0.0727, -0.0352, 0.6434, 0.291, 0.4202, 0.0452, 0.6368, 0.356, 0.6072, 0.3117, 0.622, 0.9622, -0.1392, 0.6944, 0.9978, 0.0368, -0.1834, 0.561, -0.4217, 0.0266, 0.2362, 2.5153, 2.5153, 2.5018, 2.5018, 2.4842, 2.4601, 2.4601, 2.4601, 2.4601, 2.4254, 2.4254, 2.4254, 2.4254, 2.3707, 2.3707, 2.3707, 2.3707, 2.3707, 2.3707, 2.3707, 2.3707, 2.3707, 2.3707, 2.3706, 2.3706, 2.3554, 2.3171, 2.3157, 2.2718, 2.2718, 2.2619, 2.2618, 2.2382, 2.1812, 2.2069, 2.0685, 1.7862, 1.8363, 1.5134, 2.2331, 1.5304, 1.9509, -0.2515, -0.1965, 1.1352, -0.2502, 0.1477, 0.3205, 0.5119, 0.2529, 1.4505, 1.3575, 1.4048, -0.2722, 0.0987, 0.907, 0.9367, 0.4398, 0.5633, 2.7236, 2.7236, 2.7236, 2.7194, 2.7194, 2.7194, 2.7194, 2.7194, 2.717, 2.7112, 2.7112, 2.7039, 2.6881, 2.6808, 2.6611, 2.6474, 2.6294, 2.6294, 2.6294, 2.6049, 2.6049, 2.5695, 2.5695, 2.5139, 2.5139, 2.5139, 2.5139, 2.5139, 2.5139, 2.5139, 2.467, 2.4411, 2.4241, 2.3726, 2.2624, 2.2486, 2.3305, 2.0256, 1.9463, -0.153, -0.3001, -0.2966, 1.1629, 1.2741, -0.5272, 0.4512, 3.072, 2.9928, 2.9928, 2.9815, 2.9671, 2.9483, 2.9483, 2.9483, 2.9228, 2.887, 2.8859, 2.878, 2.8281, 2.7833, 2.724, 2.724, 2.724, 2.724, 2.724, 2.724, 2.724, 2.724, 2.724, 2.724, 2.724, 2.724, 2.7239, 2.7239, 2.7239, 2.7239, 2.3898, 2.577, 2.3858, 1.8109, 1.7869, -0.3874, 1.9543, -0.403, 1.9362, 1.8717, -0.583, 1.855, 1.7948, 2.0347, 2.0203, 2.3548, 0.9124, 0.6247, 0.4725, -0.6551, -0.1257, 1.1859, 0.1127, 3.1463, 3.1442, 3.1417, 3.1403, 3.1403, 3.1388, 3.1354, 3.1335, 3.1022, 3.0958, 3.0881, 3.0533, 3.0179, 2.9706, 2.9706, 2.9706, 2.9706, 2.9705, 2.9705, 2.9162, 2.9121, 2.9121, 2.9121, 2.8582, 2.807, 2.807, 2.807, 2.8069, 2.8069, 2.8069, 2.6904, 2.6501, 2.5958, 2.3065, 2.7166, 2.3731, 1.8555, 1.7441, 2.0072, 2.599, 1.3603, -0.8459, -0.7954, -0.7657, 0.7298, 0.0714, -0.045, 3.2529, 3.2481, 3.2357, 3.2183, 3.2065, 3.1967, 3.1863, 3.1853, 3.1721, 3.1721, 3.0974, 3.071, 3.0478, 3.0478, 3.0478, 3.0476, 2.9405, 2.9405, 2.9405, 2.9405, 2.9405, 2.9405, 2.9405, 2.9405, 2.9405, 2.9404, 2.9404, 2.8074, 2.6884, 2.6884, 2.685, 2.6619, 2.5155, 2.1435, 2.4969, 1.9237, 2.5331, 1.7054, 1.813, 1.2796, -0.5503, 2.1991, -0.8468, -0.7058, 1.5327, 1.3032, 0.6212, 0.4117, 1.958, -0.1509, -0.5393, 3.3128, 3.2776, 3.1505, 3.1505, 3.0411, 3.0411, 3.0411, 3.0411, 3.0411, 3.0411, 3.0411, 3.0411, 3.0411, 3.0411, 3.0411, 3.0411, 3.041, 3.041, 3.041, 3.041, 3.041, 3.014, 2.9102, 2.9062, 2.8193, 2.8164, 2.805, 2.7849, 2.7849, 2.7849, 2.755, 2.734, 2.7292, 2.682, 2.4232, 1.6161, -0.48, -0.7025, -0.6923, 1.9906, 2.3882, 2.2584, 1.7007, 2.1777, 2.1617, 1.4623, 0.935, 0.0449, 1.4047, 2.0305, 1.8583, 1.585, -0.6083, 1.2571, 1.2707, -0.2965, -0.7326, 0.7495, 0.1158, 0.673, 1.1497, 1.5801, 3.6294, 3.6294, 3.5578, 3.492, 3.492, 3.3749, 3.3749, 3.3749, 3.3748, 3.3748, 3.2475, 3.1037, 3.1037, 3.1037, 3.1037, 3.1037, 3.1037, 3.1037, 3.1037, 3.1037, 3.1037, 3.1037, 3.1037, 3.1037, 3.1037, 3.1037, 3.1037, 3.1037, 3.1037, 3.1037, 3.0282, 3.0528, 3.0332, 3.0331, 3.0328, 3.0258, 3.0256, 2.9416, 2.8978, 2.8209, 2.7088, 2.8187, 2.816, 2.8098, 2.7935, 2.7665, 1.9134, 2.4375, 2.6434, 2.2369, -0.7791, -0.9094, -0.8908, 1.553, 0.7915, 1.5922, 0.0694, 1.8986, -0.5736, 0.4631, 0.7655, 1.0688, -0.6468, 0.146, -0.7551, 0.5141]}, \"token.table\": {\"Topic\": [4, 1, 2, 5, 8, 10, 5, 9, 5, 5, 4, 7, 4, 2, 1, 2, 5, 6, 1, 2, 5, 8, 2, 2, 3, 1, 8, 2, 3, 4, 5, 6, 8, 1, 5, 6, 1, 2, 3, 4, 8, 9, 10, 1, 2, 3, 10, 1, 3, 4, 9, 2, 2, 3, 10, 1, 8, 2, 3, 6, 7, 1, 3, 1, 2, 4, 8, 9, 10, 1, 2, 3, 3, 8, 9, 3, 9, 10, 1, 2, 3, 10, 7, 2, 6, 1, 2, 3, 5, 2, 2, 3, 10, 5, 6, 4, 6, 9, 1, 2, 4, 5, 9, 10, 10, 10, 2, 3, 8, 1, 9, 1, 2, 3, 8, 10, 10, 5, 5, 3, 5, 3, 9, 10, 7, 1, 2, 6, 1, 2, 3, 4, 5, 6, 7, 8, 9, 10, 1, 9, 7, 1, 1, 1, 2, 3, 2, 2, 6, 6, 6, 1, 2, 3, 4, 6, 8, 9, 4, 1, 4, 6, 8, 10, 4, 3, 9, 1, 2, 3, 4, 5, 6, 8, 1, 5, 3, 4, 6, 8, 9, 10, 1, 2, 3, 4, 5, 6, 8, 10, 3, 6, 8, 2, 6, 1, 2, 3, 4, 5, 6, 7, 8, 9, 10, 1, 2, 3, 4, 7, 7, 1, 1, 1, 2, 3, 4, 5, 6, 1, 3, 10, 8, 2, 6, 7, 10, 3, 2, 3, 5, 2, 6, 3, 4, 8, 4, 8, 6, 1, 3, 4, 6, 8, 1, 5, 6, 7, 9, 4, 9, 1, 2, 3, 4, 6, 10, 1, 6, 7, 8, 10, 3, 5, 7, 1, 9, 2, 5, 5, 1, 5, 7, 2, 3, 7, 5, 9, 1, 5, 6, 8, 1, 2, 4, 5, 6, 2, 1, 2, 2, 9, 6, 3, 6, 3, 8, 10, 9, 2, 10, 9, 10, 1, 7, 4, 1, 1, 3, 4, 5, 6, 7, 2, 4, 5, 9, 7, 4, 1, 2, 4, 9, 4, 9, 1, 4, 9, 4, 7, 7, 1, 2, 3, 5, 8, 10, 1, 4, 7, 8, 1, 3, 10, 10, 1, 3, 4, 9, 10, 1, 4, 6, 1, 1, 2, 3, 9, 7, 1, 2, 3, 6, 3, 1, 2, 3, 4, 8, 2, 9, 5, 10, 6, 1, 2, 5, 9, 10, 6, 4, 1, 2, 3, 4, 5, 7, 1, 2, 3, 4, 5, 6, 7, 8, 9, 10, 3, 1, 2, 3, 4, 6, 9, 8, 1, 10, 1, 1, 1, 3, 5, 7, 9, 10, 3, 10, 9, 6, 3, 4, 9, 3, 4, 9, 7, 1, 2, 6, 8, 9, 10, 1, 3, 5, 7, 5, 1, 2, 3, 7, 9, 10, 1, 9, 10, 3, 5, 10, 2, 4, 5, 6, 8, 10, 2, 4, 9, 5, 7, 1, 2, 6, 7, 8, 1, 8, 4, 6, 8, 5, 6, 1, 6, 8, 5, 1, 10, 3, 9, 5, 5, 7, 1, 2, 3, 4, 6, 8, 9, 1, 3, 4, 6, 8, 10, 8, 10, 3, 9, 1, 2, 3, 4, 5, 7, 8, 9, 1, 2, 4, 5, 9, 1, 2, 3, 4, 2, 4, 7, 10, 5, 6, 10, 3, 3, 9, 2, 1, 2, 9, 4, 1, 2, 4, 6, 10, 4, 3, 1, 4, 9, 9, 5, 9, 10, 8, 10, 1, 4, 8, 8, 2, 7, 1, 3, 4, 7, 9, 1, 2, 3, 6, 7, 10, 3, 1, 2, 3, 5, 4, 10, 1, 7, 8, 2, 4, 5, 6, 2, 2, 7, 4, 7, 10, 5, 2, 3, 8, 5, 1, 2, 3, 4, 6, 7, 9, 10, 1, 2, 3, 6, 8, 1, 1, 1, 3, 4, 5, 6, 7, 8, 10, 9, 4, 1, 2, 3, 4, 5, 6, 10, 9, 3, 8, 9, 8, 9, 6, 1, 3, 7, 9, 4, 1, 2, 9, 1, 10, 1, 4, 8, 8, 1, 5, 6, 1, 3, 4, 9, 10, 1, 8, 6, 1, 7, 1, 2, 3, 4, 5, 6, 1, 3, 4, 6, 3, 7, 5, 10, 3, 7, 6, 2, 4, 8, 9, 6, 10, 5, 6, 7, 1, 10, 1, 4, 10, 1, 2, 3, 4, 2, 4, 6, 8, 3, 4, 1, 4, 5, 8, 9, 3, 7, 10, 1, 2, 3, 4, 8, 10, 9, 1, 4, 5, 9, 10, 3, 10, 3, 4, 7, 5, 6, 1, 2, 3, 7, 9, 7, 10, 3, 2, 3, 10, 1, 2, 3, 4, 2, 1, 2, 3, 5, 6, 7, 4, 1, 4, 8, 9, 10, 2, 1, 3, 4, 5, 6, 7, 7, 3, 3, 10, 1, 3, 2, 6, 10, 1, 2, 8, 1, 2, 5, 8, 2, 3, 4, 5, 6, 10, 4, 1, 3, 4, 6, 9, 9, 5, 1, 2, 3, 4, 7, 8, 10, 7, 8, 1, 2, 3, 5, 6, 8, 9, 8, 2, 6, 8, 8, 7, 3, 10, 1, 10, 7, 4, 1, 5, 5, 1, 2, 3, 4, 6, 2, 9, 10, 5, 1, 5, 9, 5, 5, 4, 2, 1, 1, 1, 1, 5, 5, 1, 10, 9, 6, 6, 1, 1, 10, 6, 2, 4, 5, 10, 1, 3, 4, 6, 9, 10, 3, 4, 7, 1, 3, 9, 1, 2, 5, 6, 9, 3, 2, 8, 9, 1, 2, 5, 7, 8, 1, 2, 4, 7, 8, 9, 1, 10, 10, 4, 10, 3, 5, 1, 3, 8, 10, 3, 9, 9, 4, 1, 1, 4, 9, 10, 1, 2, 3, 9, 9, 4, 1, 2, 4, 6, 10, 3, 1, 3, 4, 6, 10, 3, 6, 4, 8, 7, 8, 9, 6, 8, 1, 8, 1, 2, 3, 4, 6, 8, 2, 7, 8, 10, 8, 8, 8, 1, 2, 8, 4, 5, 6, 2, 6, 4, 6, 6, 1, 2, 3, 4, 5, 6, 7, 8, 9, 10, 1, 2, 3, 5, 6, 8, 9, 10, 5, 1, 4, 6, 9, 2, 1, 2, 3, 6, 9, 4, 1, 2, 3, 4, 6, 10, 2, 10, 1, 3, 1, 2, 3, 6, 9, 1, 2, 3, 5, 8, 9, 1, 3, 5, 6, 9, 1, 2, 3, 4, 1, 2, 3, 5, 6, 8, 10, 3, 4, 1, 3, 6, 9, 1, 3, 4, 6, 7, 8, 4, 10, 5, 9, 1, 6, 10, 1, 2, 3, 4, 8, 9, 1, 7, 9, 4, 4], \"Freq\": [0.8938086109994602, 0.11113650313107852, 0.22227300626215704, 0.22227300626215704, 0.33340950939323555, 0.11113650313107852, 0.9042961190253728, 0.8655239493308418, 0.9209937018229185, 0.8763767996801721, 0.6855043152641456, 0.1713760788160364, 0.7137467507879496, 0.9312990937603239, 0.32289786745409516, 0.35877540828232796, 0.0358775408282328, 0.2870203266258624, 0.03997346365531483, 0.7994692731062967, 0.11992039096594449, 0.03997346365531483, 0.9555295497869696, 0.8995853320494365, 0.0691988716961105, 0.9150582986155904, 0.06536130704397074, 0.7674176339831433, 0.13062427812479036, 0.09252553033839317, 0.005442678255199598, 0.8782929508531914, 0.9533518874979097, 0.27238140758794654, 0.6355566177052087, 0.09079380252931553, 0.5656036754413079, 0.07976462089556906, 0.21028854599740932, 0.12327259592951581, 0.014502658344648919, 0.014502658344648919, 0.6662866561224647, 0.04291807670666058, 0.8154434574265509, 0.04291807670666058, 0.04291807670666058, 0.44906801962653536, 0.2694408117759212, 0.08981360392530707, 0.17962720785061415, 0.8345216893468352, 0.7803270828616298, 0.20288504154402373, 0.015606541657232595, 0.16891275941064027, 0.7601074173478811, 0.13434920051452512, 0.2239153341908752, 0.13434920051452512, 0.4478306683817504, 0.8169486622381633, 0.16338973244763266, 0.3139319158990633, 0.2242370827850452, 0.02242370827850452, 0.2466607910635497, 0.02242370827850452, 0.15696595794953164, 0.05368774324851851, 0.899269699412685, 0.05368774324851851, 0.9134119769766355, 0.325019444493484, 0.650038888986968, 0.8597616388195477, 0.865375697110999, 0.4577226480306298, 0.9545203650724366, 0.8826462302435755, 0.0827480840853352, 0.6662866030525801, 0.6304532264511122, 0.24467381545833516, 0.7340214463750055, 0.1633524384015368, 0.6352594826726431, 0.15427730293478473, 0.04537567733376022, 0.9516961338597989, 0.9313020779226333, 0.32520074369686414, 0.32520074369686414, 0.7244920203115174, 0.8361889219698875, 0.8936996396955353, 0.8310886757254089, 0.8653749871902756, 0.104954338418858, 0.6822031997225769, 0.0262385846047145, 0.1311929230235725, 0.052477169209429, 0.6662866561224647, 0.6662866030525801, 0.45776158534935996, 0.9313020779226333, 0.8507100224650901, 0.6318220483459713, 0.40931356704977734, 0.40931356704977734, 0.3174717531510621, 0.332589455682065, 0.2721186455580532, 0.06047081012401182, 0.6662866030525801, 0.6662866561224647, 0.8044055419806774, 0.9507009796797738, 0.2117228442789896, 0.7622022394043626, 0.26172503693462157, 0.26172503693462157, 0.26172503693462157, 0.9227664586673525, 0.1578887312868069, 0.3157774625736138, 0.47366619386042064, 0.2923594059349735, 0.34725658696206463, 0.15958482856712528, 0.0568121989698966, 0.04659876994160058, 0.030640287084888054, 0.019150179428055036, 0.017873500799518032, 0.019788518742323534, 0.008936750399759016, 0.8312944525679087, 0.8653749871902756, 0.9418990165187799, 0.9278774109400348, 0.8940190161652164, 0.19006611478247742, 0.7602644591299097, 0.038013222956495486, 0.9484212209973447, 0.887828012645364, 0.8310763539138623, 0.8782678194233635, 0.8349127327345636, 0.08285381762790249, 0.33141527051160996, 0.24856145288370748, 0.12428072644185374, 0.041426908813951245, 0.041426908813951245, 0.12428072644185374, 0.8936976246568163, 0.6991742116344857, 0.18126738820153332, 0.025895341171647615, 0.05179068234329523, 0.025895341171647615, 0.8936973146569948, 0.2513652891269672, 0.5027305782539344, 0.7817659475630899, 0.06514716229692416, 0.06514716229692416, 0.06514716229692416, 0.7243940598950458, 0.8310699568901929, 0.851613021130938, 0.7815571039766095, 0.11165101485380136, 0.7464503793806528, 0.10295867301802109, 0.02573966825450527, 0.02573966825450527, 0.07721900476351581, 0.02573966825450527, 0.28235325561762725, 0.19719909916151745, 0.380952805198386, 0.053781572498595664, 0.03585438166573045, 0.022408988541081528, 0.008963595416432612, 0.013445393124648916, 0.9055214750793698, 0.08108646220150027, 0.8919510842165029, 0.9555356187084395, 0.9914862014786846, 0.32984712494521234, 0.31713741921337846, 0.14343810754498224, 0.05991718416435967, 0.053864943339676875, 0.030866428205882257, 0.018761946556516664, 0.020577618803921505, 0.016341050226643547, 0.009078361237024192, 0.3527428941996032, 0.03649064422754516, 0.27976160574451286, 0.048654192303393545, 0.2675980576686645, 0.8377151670376194, 0.8940502097699664, 0.9632530972368109, 0.4901276675018128, 0.10053900871832057, 0.27648227397538155, 0.037702128269370215, 0.037702128269370215, 0.050269504359160284, 0.31698889537009667, 0.15849444768504833, 0.475483343055145, 0.8515893200714792, 0.48460430465230026, 0.24230215232615013, 0.08076738410871671, 0.16153476821743343, 0.941932543387046, 0.3211340780760869, 0.5780413405369564, 0.09634022342282607, 0.6612492587146073, 0.33062462935730363, 0.2622104846121238, 0.2622104846121238, 0.43701747435353966, 0.8936984513240587, 0.6421849540411302, 0.8310995514728623, 0.4040358189776531, 0.044892868775294796, 0.31425008142706357, 0.044892868775294796, 0.17957147510117918, 0.247196271184473, 0.1235981355922365, 0.247196271184473, 0.1235981355922365, 0.247196271184473, 0.31672635574377234, 0.6334527114875447, 0.31191591578106365, 0.13367824962045585, 0.13367824962045585, 0.31191591578106365, 0.04455941654015195, 0.04455941654015195, 0.2431217013515105, 0.486243402703021, 0.8806111534007329, 0.09784568371119255, 0.6972242087145962, 0.22924949588583535, 0.15283299725722357, 0.5349154904002825, 0.35502900413420974, 0.5325435062013146, 0.98001787681883, 0.9633333152237763, 0.9375681075566928, 0.9518745465489992, 0.9062561987388653, 0.6303896047982919, 0.9059294216197143, 0.0335529415414709, 0.0335529415414709, 0.215705503216756, 0.647116509650268, 0.712696205908847, 0.0712696205908847, 0.03563481029544235, 0.1425392411817694, 0.22740728184697623, 0.5947575063690148, 0.06997147133753115, 0.017492867834382787, 0.08746433917191394, 0.8878356011220704, 0.9279844655267993, 0.9758627363917024, 0.24970786351609103, 0.49941572703218207, 0.8310891350574783, 0.1128633714809832, 0.7900436003668824, 0.8037346763047958, 0.11481923947211368, 0.6662866030525801, 0.8653749871902756, 0.8641886909747659, 0.4578248139045736, 0.883239856389498, 0.6662866030525801, 0.37048767489396095, 0.6020424717026865, 0.8936973146569948, 0.8843175386328117, 0.3444395978655831, 0.12916484919959365, 0.021527474866598943, 0.043054949733197886, 0.021527474866598943, 0.4090220224653799, 0.22231296830762187, 0.03705216138460365, 0.7039910663074693, 0.03705216138460365, 0.9519257339108903, 0.8936973146569948, 0.21335894127327523, 0.42671788254655046, 0.10667947063663762, 0.21335894127327523, 0.6060198682709751, 0.2020066227569917, 0.6620718882899567, 0.27261783635468806, 0.038945405193526864, 0.7921473687371695, 0.9647347036834927, 0.758124655459344, 0.134141179805489, 0.6956623975959082, 0.15597811605289422, 0.006239124642115768, 0.003119562321057884, 0.003119562321057884, 0.2903398766255791, 0.6774597121263513, 0.8378061410577322, 0.6421810445966146, 0.21142417946883849, 0.21142417946883849, 0.42284835893767697, 0.6662866561224647, 0.36498889173537175, 0.12166296391179057, 0.12166296391179057, 0.24332592782358115, 0.12166296391179057, 0.5801188132954347, 0.08287411618506209, 0.33149646474024835, 0.8940680415821568, 0.48317716673222993, 0.12079429168305748, 0.18119143752458622, 0.18119143752458622, 0.9396034682113079, 0.1078088741106916, 0.808566555830187, 0.0269522185276729, 0.0269522185276729, 0.925398539998455, 0.17896258447047783, 0.23861677929397046, 0.29827097411746306, 0.07953892643132349, 0.19884731607830872, 0.8642202833920669, 0.8653749871902756, 0.33171460617079873, 0.33171460617079873, 0.6247476124263244, 0.24977091913791907, 0.20814243261493257, 0.45791335175285164, 0.041628486522986514, 0.041628486522986514, 0.9403940550785866, 0.9222573467329385, 0.02872412852702503, 0.6319308275945507, 0.11489651410810012, 0.14362064263512514, 0.05744825705405006, 0.7580382229214607, 0.4288786555115755, 0.20945236664518804, 0.1994784444239886, 0.0997392222119943, 0.004986961110599715, 0.00997392222119943, 0.004986961110599715, 0.01994784444239886, 0.014960883331799145, 0.004986961110599715, 0.948557192089417, 0.4248817827734547, 0.033990542621876375, 0.4248817827734547, 0.05098581393281456, 0.033990542621876375, 0.016995271310938188, 0.6318220483459713, 0.9088781697310504, 0.06991370536392695, 0.9545094581832763, 0.9519171206855986, 0.18628465509098652, 0.07451386203639461, 0.07451386203639461, 0.6147393618002556, 0.018628465509098652, 0.018628465509098652, 0.32528587782974216, 0.32528587782974216, 0.6539717357122928, 0.8951292107310947, 0.9782309935443437, 0.7967642020204843, 0.865431164722262, 0.9254039308933477, 0.25610940939998506, 0.5122188187999701, 0.9846209765483751, 0.10378123851080014, 0.3113437155324004, 0.10378123851080014, 0.10378123851080014, 0.10378123851080014, 0.20756247702160027, 0.11293662869979089, 0.7905564008985363, 0.9851601049286711, 0.8378632751603338, 0.9062539117303837, 0.3087471168598434, 0.19296694803740214, 0.2508570324486228, 0.1543735584299217, 0.038593389607480426, 0.05789008441122064, 0.26012035149065904, 0.26012035149065904, 0.26012035149065904, 0.8805001233438289, 0.06289286595313064, 0.6662866030525801, 0.36571766941986494, 0.3308874151894016, 0.03483025423046333, 0.12190588980662165, 0.12190588980662165, 0.017415127115231663, 0.31919107199166874, 0.5319851199861145, 0.10639702399722291, 0.611341391392238, 0.305670695696119, 0.5989146717300416, 0.26039768336088764, 0.026039768336088766, 0.05207953667217753, 0.05207953667217753, 0.8939972749417964, 0.6424182058751969, 0.047986825034941165, 0.047986825034941165, 0.8637628506289409, 0.8615044685490706, 0.8311079684578344, 0.3035234720355899, 0.45528520805338485, 0.15176173601779494, 0.9062539117303837, 0.8313128256089249, 0.6662866561224647, 0.9419285145183983, 0.8653749871902756, 0.9062516861279647, 0.9633333152237763, 0.9822343791763694, 0.35282826796947436, 0.169213557087401, 0.3600288448668106, 0.08640692276803455, 0.007200576897336212, 0.010800865346004319, 0.01800144224334053, 0.5859848858579838, 0.2685764060182426, 0.04883207382149866, 0.04883207382149866, 0.04883207382149866, 0.6662866030525801, 0.8517929386405743, 0.6662866030525801, 0.9131847370446596, 0.8654522142625289, 0.17661032812586236, 0.3767687000018397, 0.04709608750022996, 0.035322065625172476, 0.20015837187597735, 0.08241815312540243, 0.05887010937528746, 0.02354804375011498, 0.25075027159271, 0.20060021727416802, 0.45135048886687806, 0.050150054318542005, 0.050150054318542005, 0.44650258484440436, 0.36145447344547016, 0.12757216709840125, 0.04252405569946708, 0.24904695525110948, 0.24904695525110948, 0.12452347762555474, 0.24904695525110948, 0.2624554397510895, 0.2624554397510895, 0.2624554397510895, 0.9055194645544433, 0.7692849259482055, 0.1282141543247009, 0.9558824534864514, 0.4778403849766057, 0.11946009624415142, 0.3583802887324543, 0.7137493804510782, 0.46808037142280257, 0.2553165662306196, 0.08510552207687319, 0.1276582831153098, 0.08510552207687319, 0.8936984513240587, 0.8114121247644701, 0.18280335494112612, 0.6398117422939413, 0.13710251620584457, 0.8656398592031257, 0.3182685630368568, 0.6365371260737136, 0.6662866030525801, 0.8729987995263345, 0.08729987995263346, 0.88427694313876, 0.7510081221209511, 0.15020162442419022, 0.851588456442504, 0.9313020779226333, 0.7580110233084435, 0.5098379926226757, 0.10925099841914479, 0.036416999473048266, 0.3277529952574344, 0.036416999473048266, 0.3409199274826538, 0.11363997582755127, 0.39773991539642944, 0.08522998187066345, 0.056819987913775634, 0.028409993956887817, 0.8597644067511061, 0.15734728395112435, 0.2622454732518739, 0.05244909465037478, 0.47204185185337305, 0.7398171404948624, 0.12330285674914372, 0.22502763302186277, 0.22502763302186277, 0.45005526604372553, 0.9141700711515947, 0.0652978622251139, 0.9062588234526596, 0.8310714600929553, 0.9961345165704025, 0.9368061981573472, 0.9780652146771944, 0.07476190671099936, 0.8971428805319923, 0.03738095335549968, 0.9633333152237763, 0.7270376949933686, 0.24234589833112288, 0.8515833711026551, 0.9062503744841623, 0.39476196245157014, 0.272744628602903, 0.2225021970181577, 0.028709960905568738, 0.021532470679176553, 0.04306494135835311, 0.007177490226392184, 0.007177490226392184, 0.3218658154938181, 0.4425654963039999, 0.08046645387345452, 0.16093290774690905, 0.9282987722304437, 0.88427694313876, 0.88427694313876, 0.3194679990466348, 0.19168079942798089, 0.11181379966632218, 0.01597339995233174, 0.0798669997616587, 0.2396009992849761, 0.01597339995233174, 0.03194679990466348, 0.8654587124121276, 0.8936973146569948, 0.19309526060673535, 0.41137685955347963, 0.2854451678534348, 0.016790892226672637, 0.033581784453345274, 0.041977230566681595, 0.025186338340008958, 0.865616796812772, 0.8114411810194339, 0.9739330408967425, 0.6539717357122928, 0.8641236418728316, 0.9435444549641061, 0.8310886757254089, 0.8051179067513086, 0.10063973834391357, 0.9765520023331736, 0.6393788546960602, 0.8900102254861991, 0.12680557905868822, 0.6974306848227851, 0.12680557905868822, 0.5346923431044746, 0.3564615620696497, 0.41934616608792613, 0.046594018454214015, 0.5125342029963542, 0.6421810445966146, 0.7917588067395324, 0.1319598011232554, 0.0659799005616277, 0.502290573050254, 0.3863773638848108, 0.07727547277696216, 0.023182641833088647, 0.007727547277696216, 0.9278516252224134, 0.8518167041960807, 0.8310699568901929, 0.9518963068658559, 0.9662698325835501, 0.5014017539356094, 0.13080045754841982, 0.06540022877420991, 0.021800076258069973, 0.21800076258069973, 0.06540022877420991, 0.6980008572455889, 0.1396001714491178, 0.09306678096607852, 0.04653339048303926, 0.9559217110158031, 0.9780652146771944, 0.985154245942812, 0.6662866030525801, 0.3484928754025292, 0.5227393131037938, 0.8310713765815481, 0.7891568119814801, 0.04384204511008223, 0.04384204511008223, 0.13152613533024668, 0.27299601923717887, 0.5459920384743577, 0.8044240897441366, 0.8310699568901929, 0.7579602145129821, 0.4985139689489818, 0.2492569844744909, 0.38460018033553917, 0.5769002705033087, 0.6972223605085897, 0.4268144998165327, 0.06566376920254349, 0.3939826152152609, 0.09849565380381523, 0.8225551893249287, 0.07477774448408442, 0.03738887224204221, 0.03738887224204221, 0.8514996069006106, 0.09461106743340117, 0.6134037983758376, 0.22441602379603817, 0.10472747777148447, 0.01496106825306921, 0.02992213650613842, 0.9559086495630821, 0.4405282447311913, 0.22026412236559564, 0.5399214713952545, 0.041532420876558035, 0.2284283148210692, 0.12459726262967412, 0.041532420876558035, 0.8445164839973031, 0.6393788546960602, 0.2430875051105014, 0.054019445580111417, 0.5942139013812257, 0.054019445580111417, 0.027009722790055708, 0.32521644758420587, 0.32521644758420587, 0.13124138250889553, 0.06562069125444776, 0.7874482950533731, 0.9851601049286711, 0.8310886757254089, 0.32445767028399464, 0.49750176110212513, 0.1730440908181305, 0.7579606389626609, 0.8655102975156991, 0.5189262525840103, 0.25946312629200513, 0.881194989242361, 0.8428067155793155, 0.10535083944741444, 0.6662866030525801, 0.13389561203940886, 0.8033736722364532, 0.033473903009852216, 0.033473903009852216, 0.8642013253725478, 0.696547445607811, 0.13930948912156219, 0.046436496373854066, 0.023218248186927033, 0.06965474456078109, 0.023218248186927033, 0.8938168176299089, 0.5141951105584819, 0.0856991850930803, 0.25709755527924094, 0.0856991850930803, 0.0856991850930803, 0.9384154110722855, 0.21780016574535566, 0.10890008287267783, 0.10890008287267783, 0.10890008287267783, 0.3267002486180335, 0.10890008287267783, 0.8378632751603338, 0.8114241281033387, 0.8399696104023238, 0.16799392208046476, 0.810544472019551, 0.14737172218537292, 0.31856525550959297, 0.31856525550959297, 0.31856525550959297, 0.3498184945630547, 0.6121823654853457, 0.017490924728152734, 0.5053828426056011, 0.3723873577093903, 0.026599096979242166, 0.07979729093772649, 0.8075808062486866, 0.0712571299631194, 0.023752376654373134, 0.023752376654373134, 0.023752376654373134, 0.023752376654373134, 0.8936984513240587, 0.6595440404347913, 0.10992400673913189, 0.10992400673913189, 0.02748100168478297, 0.05496200336956594, 0.6393788546960602, 0.8614994753761371, 0.6613340553594306, 0.10174370082452779, 0.12354592242978374, 0.029069628807007936, 0.043604443210511906, 0.029069628807007936, 0.007267407201751984, 0.7261156216671754, 0.18152890541679384, 0.24491632936078075, 0.0667953625529402, 0.15585584595686047, 0.044530241701960134, 0.0667953625529402, 0.31171169191372095, 0.08906048340392027, 0.9079987133193704, 0.8345120785921071, 0.7507388619461681, 0.8516444515563397, 0.9239381606680525, 0.8377151670376194, 0.8597859244385351, 0.6662866030525801, 0.32277920572556584, 0.32277920572556584, 0.8377151670376194, 0.8936996396955353, 0.2926965824759936, 0.6829586924439851, 0.9209759973043127, 0.22242797233276582, 0.5560699308319146, 0.11121398616638291, 0.08897118893310633, 0.022242797233276584, 0.8143837283291505, 0.04790492519583238, 0.09580985039166476, 0.8614978521166665, 0.4020214141752678, 0.2680142761168452, 0.2680142761168452, 0.9036455370710907, 0.9062503744841623, 0.792095973936168, 0.907148269000155, 0.8940246542294576, 0.8939982172516345, 0.9329767699464181, 0.884307837091981, 0.963612186713696, 0.9633333152237763, 0.8312686568432255, 0.45771591266012457, 0.8653749871902756, 0.8311079684578344, 0.8311079684578344, 0.8939982172516345, 0.3228257809399823, 0.3228257809399823, 0.8951292107310947, 0.09985989439890149, 0.6990192607923105, 0.09985989439890149, 0.09985989439890149, 0.42970521433710185, 0.1671075833533174, 0.19098009526093418, 0.047745023815233545, 0.1671075833533174, 0.023872511907616772, 0.9132279327700911, 0.8479228423440391, 0.7579606389626609, 0.5425665119587708, 0.15501900341679165, 0.23252850512518747, 0.20399496116628352, 0.4759882427213282, 0.06799832038876118, 0.06799832038876118, 0.13599664077752235, 0.9132570676539544, 0.4577008646980934, 0.15256695489936448, 0.30513390979872895, 0.44517015257343584, 0.17121928945132148, 0.034243857890264295, 0.06848771578052859, 0.20546314734158577, 0.2939331741121871, 0.6088615749466733, 0.020995226722299077, 0.020995226722299077, 0.020995226722299077, 0.020995226722299077, 0.88427694313876, 0.813019835602145, 0.45771621319819944, 0.7137127751947308, 0.8129751044680293, 0.8194332349076612, 0.16388664698153224, 0.8218691527482029, 0.051366822046762683, 0.10273364409352537, 0.051366822046762683, 0.7237382541564594, 0.14474765083129187, 0.865650222471464, 0.7967642020204843, 0.8939972024565066, 0.09266281420229153, 0.7413025136183322, 0.09266281420229153, 0.09266281420229153, 0.4549346258655523, 0.38994396502761625, 0.10831776806322672, 0.021663553612645346, 0.865632641193098, 0.8897507826283816, 0.42505517031036977, 0.10626379257759244, 0.10626379257759244, 0.3187913777327773, 0.6662866030525801, 0.8597856652377247, 0.5225445267100769, 0.27664122002298186, 0.061475826671773745, 0.061475826671773745, 0.061475826671773745, 0.9485750769477045, 0.8310886757254089, 0.2524795660312082, 0.5049591320624164, 0.1293879887982176, 0.7763279327893057, 0.8653749871902756, 0.8951292107310947, 0.8516445212827802, 0.45150097691809576, 0.45150097691809576, 0.1169664961663851, 0.6433157289151181, 0.15205644501630064, 0.03508994884991553, 0.03508994884991553, 0.9239403168729375, 0.9555542133364295, 0.6303734162152754, 0.6595697212398892, 0.3297848606199446, 0.8515833711026551, 0.8515833711026551, 0.8515833711026551, 0.7979682710647842, 0.05319788473765228, 0.10639576947530456, 0.20464670928627485, 0.20464670928627485, 0.4092934185725497, 0.817633391593569, 0.15330626092379418, 0.11334329885161641, 0.7934030919613149, 0.8310886757254089, 0.3012462731905891, 0.3354337614309685, 0.17440573711034107, 0.05697914706729893, 0.04657425934196608, 0.025269013047236916, 0.017836950386284883, 0.015359596165967538, 0.015855067010031008, 0.010404887725332847, 0.054750029901768985, 0.32850017941061394, 0.10950005980353797, 0.10950005980353797, 0.10950005980353797, 0.10950005980353797, 0.054750029901768985, 0.10950005980353797, 0.9633333152237763, 0.5133358241346164, 0.17111194137820548, 0.2737791062051288, 0.0342223882756411, 0.9312990937603239, 0.3087244554827593, 0.2205174682019709, 0.3087244554827593, 0.04410349364039418, 0.13231048092118255, 0.9222573467329385, 0.3893383623581603, 0.025955890823877354, 0.20764712659101883, 0.3374265807104056, 0.025955890823877354, 0.025955890823877354, 0.8345992180819536, 0.6662866030525801, 0.1499603656148893, 0.8247820108818911, 0.43725843678830495, 0.07287640613138416, 0.14575281226276832, 0.29150562452553663, 0.07287640613138416, 0.35372529275253756, 0.13264698478220158, 0.22107830797033598, 0.13264698478220158, 0.044215661594067195, 0.08843132318813439, 0.9518948309678297, 0.15076095523198832, 0.7161145373519445, 0.03769023880799708, 0.07538047761599416, 0.7801379284976042, 0.09178093276442402, 0.09178093276442402, 0.7137226755707725, 0.13388159618805529, 0.13388159618805529, 0.13388159618805529, 0.20082239428208293, 0.26776319237611057, 0.06694079809402764, 0.06694079809402764, 0.1963799471689043, 0.589139841506713, 0.4377516792927521, 0.14591722643091737, 0.29183445286183474, 0.07295861321545868, 0.2855331124585533, 0.07138327811463832, 0.42829966868782987, 0.03569163905731916, 0.07138327811463832, 0.07138327811463832, 0.43847379071724507, 0.43847379071724507, 0.2571353952403378, 0.5142707904806756, 0.2559001178583104, 0.2559001178583104, 0.2559001178583104, 0.06392917486882056, 0.7799359333996109, 0.09589376230323085, 0.012785834973764114, 0.012785834973764114, 0.03196458743441028, 0.8060354475005613, 0.08060354475005613, 0.08060354475005613, 0.7920996376251993, 0.7920972335991269], \"Term\": [\"abcnew\", \"access\", \"access\", \"access\", \"access\", \"access\", \"acepnow\", \"achiev\", \"acip\", \"acpinternist\", \"action\", \"action\", \"address\", \"adequ\", \"administ\", \"administ\", \"administ\", \"administ\", \"administr\", \"administr\", \"administr\", \"administr\", \"advers\", \"advis\", \"advis\", \"afghanistan\", \"afghanistan\", \"age\", \"age\", \"age\", \"age\", \"aiim\", \"albert\", \"ameracadp\", \"ameracadp\", \"ameracadp\", \"anaem\", \"anaem\", \"anaem\", \"anaem\", \"anaem\", \"anaem\", \"andrew_cadman\", \"announc\", \"announc\", \"announc\", \"announc\", \"answer\", \"answer\", \"answer\", \"answer\", \"appli\", \"approv\", \"approv\", \"approv\", \"arizona\", \"arizona\", \"articl\", \"articl\", \"articl\", \"articl\", \"astrazeneca\", \"astrazeneca\", \"australia\", \"australia\", \"australia\", \"australia\", \"australia\", \"australia\", \"author\", \"author\", \"author\", \"await\", \"bank\", \"bank\", \"bbcrosatkin\", \"bbmp\", \"bed\", \"began\", \"begin\", \"begin\", \"behavior\", \"better\", \"bharatbiotech\", \"bharatbiotech\", \"biontech\", \"biontech\", \"biontech\", \"biontech\", \"biotech\", \"bird\", \"bitch\", \"bitch\", \"bloomberg\", \"bngo\", \"boni\", \"bordercrisi\", \"bravomedicalh\", \"break\", \"break\", \"break\", \"break\", \"break\", \"breast\", \"breastfeed\", \"brisban\", \"brooklyn\", \"c_drosten\", \"calltoact\", \"calm\", \"calm\", \"canada\", \"canada\", \"canada\", \"canada\", \"canaryisland\", \"capitolriot\", \"carlosdelrio\", \"cbsnewyork\", \"cdcgov\", \"cdcgov\", \"cell\", \"cell\", \"cell\", \"charityfairi\", \"chief\", \"chief\", \"chief\", \"child\", \"child\", \"child\", \"child\", \"child\", \"child\", \"child\", \"child\", \"child\", \"child\", \"childhealth\", \"childrensla\", \"christian\", \"citi\", \"classroom\", \"clinic\", \"clinic\", \"clinic\", \"clinicaltri\", \"closer\", \"cnbcfastmoney\", \"cnbcnow\", \"cnnbrk\", \"come\", \"come\", \"come\", \"come\", \"come\", \"come\", \"come\", \"communic\", \"communiti\", \"communiti\", \"communiti\", \"communiti\", \"communiti\", \"compass\", \"complet\", \"complet\", \"concern\", \"concern\", \"concern\", \"concern\", \"congress\", \"contact\", \"content\", \"continu\", \"continu\", \"corona\", \"corona\", \"corona\", \"corona\", \"corona\", \"corona\", \"coronavirus\", \"coronavirus\", \"coronavirus\", \"coronavirus\", \"coronavirus\", \"coronavirus\", \"coronavirus\", \"coronavirus\", \"coronavirusd\", \"corrupt\", \"corrupt\", \"costa\", \"covaxin\", \"covid\", \"covid\", \"covid\", \"covid\", \"covid\", \"covid\", \"covid\", \"covid\", \"covid\", \"covid\", \"covid_\", \"covid_\", \"covid_\", \"covid_\", \"covid_\", \"covidindia\", \"covidiot\", \"covidisnotov\", \"covidvaccin\", \"covidvaccin\", \"covidvaccin\", \"covidvaccin\", \"covidvaccin\", \"covidvaccin\", \"crime\", \"crime\", \"crime\", \"crimin\", \"cuba\", \"cuba\", \"cuba\", \"cuba\", \"cuti\", \"day\", \"day\", \"day\", \"dcgi\", \"dcgi\", \"dear\", \"dear\", \"dear\", \"decent\", \"definit\", \"delhi\", \"deltavari\", \"deltavari\", \"deltavari\", \"deltavari\", \"deltavari\", \"demand\", \"demand\", \"demand\", \"demand\", \"demand\", \"democrat\", \"democrat\", \"develop\", \"develop\", \"develop\", \"develop\", \"develop\", \"develop\", \"differ\", \"differ\", \"digit\", \"digit\", \"discoveri\", \"donat\", \"donat\", \"donat\", \"donna\", \"donna\", \"dose\", \"downhil\", \"dr_mike_steven\", \"dramat\", \"drjootz\", \"drlahariya\", \"drug\", \"drug\", \"drug\", \"easi\", \"easi\", \"educ\", \"educ\", \"educ\", \"educ\", \"effect\", \"effect\", \"effect\", \"effect\", \"effect\", \"efficaci\", \"elementari\", \"emerg\", \"emergencyus\", \"emergencyus\", \"emigr\", \"endors\", \"endors\", \"england\", \"england\", \"erupt\", \"espanol\", \"european\", \"evalu\", \"event\", \"extern\", \"facebook\", \"facebook\", \"faith\", \"fall\", \"famili\", \"famili\", \"famili\", \"famili\", \"famili\", \"famili\", \"fear\", \"fear\", \"fear\", \"fear\", \"featur\", \"feed\", \"feel\", \"feel\", \"feel\", \"feel\", \"fellow\", \"fellow\", \"felt\", \"felt\", \"felt\", \"final\", \"financ\", \"find\", \"finer\", \"finer\", \"finer\", \"finer\", \"finer\", \"finer\", \"florida\", \"florida\", \"focus\", \"format\", \"franc\", \"franc\", \"franc\", \"frededwarduk\", \"fulli\", \"fulli\", \"fulli\", \"fulli\", \"fulli\", \"futur\", \"futur\", \"futur\", \"german\", \"getvaccin\", \"getvaccin\", \"getvaccin\", \"getvaccin\", \"givingback\", \"good\", \"good\", \"good\", \"good\", \"googlenew\", \"govern\", \"govern\", \"govern\", \"govern\", \"govern\", \"grant\", \"guest\", \"half\", \"half\", \"hanna\", \"happen\", \"happen\", \"happen\", \"happen\", \"happen\", \"hart\", \"hatfil\", \"head\", \"head\", \"head\", \"head\", \"head\", \"heal\", \"health\", \"health\", \"health\", \"health\", \"health\", \"health\", \"health\", \"health\", \"health\", \"health\", \"healthcanada\", \"healthcar\", \"healthcar\", \"healthcar\", \"healthcar\", \"healthcar\", \"healthcar\", \"healthcrisi\", \"healthequ\", \"healthequ\", \"healthforal\", \"healthychildren\", \"help\", \"help\", \"help\", \"help\", \"help\", \"help\", \"herdimmun\", \"herdimmun\", \"herr\", \"hgen\", \"hinder\", \"hindu\", \"holi\", \"homeschool\", \"honest\", \"honest\", \"hopeless\", \"human\", \"human\", \"human\", \"human\", \"human\", \"human\", \"hunger\", \"hunger\", \"idsainfo\", \"ietim\", \"immigr\", \"immun\", \"immun\", \"immun\", \"immun\", \"immun\", \"immun\", \"immunesystem\", \"immunesystem\", \"immunesystem\", \"impfung\", \"impfung\", \"inch\", \"india\", \"india\", \"india\", \"india\", \"india\", \"india\", \"indigen\", \"indigen\", \"indigen\", \"individu\", \"individu\", \"infect\", \"infect\", \"infect\", \"infect\", \"infect\", \"internet\", \"introduc\", \"israel\", \"israel\", \"israel\", \"jasongnewland\", \"jayasumana\", \"journal\", \"journal\", \"journal\", \"justic\", \"kaiser\", \"karenh\", \"karl_lauterbach\", \"keckmedusc\", \"kidnap\", \"kidshealth\", \"kindnessmatt\", \"kiss\", \"kiss\", \"kiss\", \"kiss\", \"kiss\", \"kiss\", \"kiss\", \"know\", \"know\", \"know\", \"know\", \"know\", \"lapalma\", \"laugh\", \"lava\", \"letstalksci\", \"licens\", \"lid\", \"lid\", \"lid\", \"lid\", \"lid\", \"lid\", \"lid\", \"lid\", \"life\", \"life\", \"life\", \"life\", \"life\", \"like\", \"like\", \"like\", \"like\", \"line\", \"line\", \"line\", \"line\", \"listen\", \"listen\", \"listen\", \"literaci\", \"live\", \"live\", \"liver\", \"local\", \"local\", \"local\", \"locat\", \"lockdown\", \"lockdown\", \"lockdown\", \"lockdown\", \"lockdown\", \"logic\", \"logist\", \"long\", \"long\", \"long\", \"longer\", \"losangel\", \"losangel\", \"lupus\", \"maga\", \"maga\", \"magplanet\", \"maker\", \"maker\", \"mamabear\", \"manhattan\", \"manitoba\", \"medic\", \"medic\", \"medic\", \"medic\", \"medic\", \"medicin\", \"medicin\", \"medicin\", \"medicin\", \"medicin\", \"medicin\", \"medit\", \"meet\", \"meet\", \"meet\", \"meet\", \"mentalhealth\", \"mentalhealth\", \"micro\", \"micro\", \"micro\", \"million\", \"million\", \"misc\", \"mjmnew\", \"modern\", \"moderna_tx\", \"modestne\", \"money\", \"money\", \"money\", \"montep\", \"month\", \"month\", \"mophoffici\", \"moskowa\", \"move\", \"move\", \"move\", \"move\", \"move\", \"move\", \"move\", \"move\", \"mrna\", \"mrna\", \"mrna\", \"mrna\", \"murder\", \"myhealthfunda\", \"mypressnew\", \"need\", \"need\", \"need\", \"need\", \"need\", \"need\", \"need\", \"need\", \"nejm\", \"newer\", \"news\", \"news\", \"news\", \"news\", \"news\", \"news\", \"news\", \"newspap\", \"newzealand\", \"nickiminaj\", \"north\", \"notaboutavirus\", \"novavax\", \"nuclear\", \"nurs\", \"nurs\", \"nytim\", \"occupi\", \"ocgn\", \"offici\", \"offici\", \"offici\", \"onlin\", \"onlin\", \"ontario\", \"ontario\", \"ontario\", \"onthealth\", \"opinion\", \"opinion\", \"opinion\", \"parent\", \"parent\", \"parent\", \"parent\", \"parent\", \"parentingtip\", \"passport\", \"patern\", \"paus\", \"payitforward\", \"pediatr\", \"pediatr\", \"pediatr\", \"pediatr\", \"pediatr\", \"pediatr\", \"pediatrician\", \"pediatrician\", \"pediatrician\", \"pediatrician\", \"pfizervaccin\", \"philanthropi\", \"pidsocieti\", \"piec\", \"pink\", \"pink\", \"pixstoryapp\", \"plan\", \"plan\", \"plan\", \"plan\", \"polit\", \"polit\", \"poor\", \"porch\", \"preexist\", \"prepar\", \"prepar\", \"presid\", \"presid\", \"primit\", \"print\", \"print\", \"print\", \"print\", \"prize\", \"prize\", \"prize\", \"prize\", \"profit\", \"profit\", \"protect\", \"protect\", \"protect\", \"protect\", \"protect\", \"protectthekid\", \"protest\", \"protest\", \"publichealth\", \"publichealth\", \"publichealth\", \"publichealth\", \"publichealth\", \"queensland\", \"quest\", \"question\", \"question\", \"question\", \"question\", \"question\", \"react\", \"react\", \"read\", \"read\", \"read\", \"realtimecovid\", \"recal\", \"recommend\", \"recommend\", \"recommend\", \"refund\", \"regard\", \"regberlin\", \"regberlin\", \"regsprech\", \"regulatori\", \"regulatori\", \"relax\", \"report\", \"report\", \"report\", \"report\", \"request\", \"research\", \"research\", \"research\", \"research\", \"research\", \"research\", \"respiratori\", \"rest\", \"rest\", \"rest\", \"rest\", \"rest\", \"result\", \"review\", \"review\", \"review\", \"review\", \"review\", \"review\", \"rico\", \"ride\", \"robust\", \"robust\", \"roll\", \"roll\", \"russia\", \"russia\", \"russia\", \"safe\", \"safe\", \"safe\", \"safeti\", \"safeti\", \"safeti\", \"safeti\", \"said\", \"said\", \"said\", \"said\", \"said\", \"said\", \"sane\", \"say\", \"say\", \"say\", \"say\", \"say\", \"scarc\", \"sccm\", \"school\", \"school\", \"school\", \"school\", \"school\", \"school\", \"school\", \"schoolsreopen\", \"schoolsreopen\", \"scienc\", \"scienc\", \"scienc\", \"scienc\", \"scienc\", \"scienc\", \"scienc\", \"sciencewin\", \"scientif\", \"screen\", \"secondaryschool\", \"secretari\", \"seminar\", \"senbjf\", \"sensibl\", \"sequenc\", \"sequenc\", \"session\", \"shafter\", \"share\", \"share\", \"shea_epi\", \"shot\", \"shot\", \"shot\", \"shot\", \"shot\", \"show\", \"show\", \"show\", \"siberia\", \"sideeffect\", \"sideeffect\", \"sideeffect\", \"sidpharm\", \"simcoecounti\", \"sinopharm\", \"sinovac\", \"skeptic\", \"sky\", \"smartnew\", \"smartvideo\", \"societyhospm\", \"sofa\", \"somapediatr\", \"soviet\", \"spanish\", \"special\", \"specialne\", \"spi\", \"sputnik\", \"sputnik\", \"srne\", \"stand\", \"stand\", \"stand\", \"stand\", \"start\", \"start\", \"start\", \"start\", \"start\", \"start\", \"stem\", \"steve\", \"stimulus\", \"stop\", \"stop\", \"stop\", \"stori\", \"stori\", \"stori\", \"stori\", \"stori\", \"stress\", \"strong\", \"strong\", \"strong\", \"student\", \"student\", \"student\", \"student\", \"student\", \"studi\", \"studi\", \"studi\", \"studi\", \"studi\", \"studi\", \"styleupnow\", \"survey\", \"surveycircl\", \"t_s_p_o_o_k_i\", \"tafrishaala\", \"teach\", \"teach\", \"teacher\", \"teacher\", \"teacher\", \"teacher\", \"techarp\", \"techarp\", \"televis\", \"templ\", \"tend\", \"term\", \"term\", \"term\", \"term\", \"test\", \"test\", \"test\", \"test\", \"thanksgiv\", \"thelcpr\", \"thing\", \"thing\", \"thing\", \"thing\", \"threshold\", \"thursdayvib\", \"time\", \"time\", \"time\", \"time\", \"time\", \"tip\", \"todayindoom\", \"took\", \"took\", \"toronto\", \"toronto\", \"town\", \"tradit\", \"transport\", \"travel\", \"travel\", \"trial\", \"trial\", \"trial\", \"trial\", \"trial\", \"ukgovern\", \"unanim\", \"unemploy\", \"unford\", \"unford\", \"unicefafg\", \"unicefeduc\", \"unicefrosa\", \"univers\", \"univers\", \"univers\", \"unknown\", \"unknown\", \"unknown\", \"us_fda\", \"us_fda\", \"usatoday\", \"usatoday\", \"usdebt\", \"vaccin\", \"vaccin\", \"vaccin\", \"vaccin\", \"vaccin\", \"vaccin\", \"vaccin\", \"vaccin\", \"vaccin\", \"vaccin\", \"vaccinemand\", \"vaccinemand\", \"vaccinemand\", \"vaccinemand\", \"vaccinemand\", \"vaccinemand\", \"vaccinemand\", \"vaccinemand\", \"vacuous\", \"variant\", \"variant\", \"variant\", \"variant\", \"venezuela\", \"video\", \"video\", \"video\", \"video\", \"video\", \"virologist\", \"virus\", \"virus\", \"virus\", \"virus\", \"virus\", \"virus\", \"visit\", \"volcano\", \"vulner\", \"vulner\", \"wait\", \"wait\", \"wait\", \"wait\", \"wait\", \"want\", \"want\", \"want\", \"want\", \"want\", \"want\", \"washingtonpost\", \"watch\", \"watch\", \"watch\", \"watch\", \"wearamask\", \"wearamask\", \"wearamask\", \"well\", \"widen\", \"widen\", \"widen\", \"widen\", \"widen\", \"widen\", \"widen\", \"winter\", \"winter\", \"work\", \"work\", \"work\", \"work\", \"world\", \"world\", \"world\", \"world\", \"world\", \"world\", \"worldnew\", \"worldnew\", \"worri\", \"worri\", \"write\", \"write\", \"write\", \"year\", \"year\", \"year\", \"year\", \"year\", \"year\", \"youngster\", \"youngster\", \"youngster\", \"zycov\", \"zycovd\"]}, \"R\": 30, \"lambda.step\": 0.01, \"plot.opts\": {\"xlab\": \"PC1\", \"ylab\": \"PC2\"}, \"topic.order\": [1, 9, 10, 2, 6, 7, 5, 8, 3, 4]};\n",
       "\n",
       "function LDAvis_load_lib(url, callback){\n",
       "  var s = document.createElement('script');\n",
       "  s.src = url;\n",
       "  s.async = true;\n",
       "  s.onreadystatechange = s.onload = callback;\n",
       "  s.onerror = function(){console.warn(\"failed to load library \" + url);};\n",
       "  document.getElementsByTagName(\"head\")[0].appendChild(s);\n",
       "}\n",
       "\n",
       "if(typeof(LDAvis) !== \"undefined\"){\n",
       "   // already loaded: just create the visualization\n",
       "   !function(LDAvis){\n",
       "       new LDAvis(\"#\" + \"ldavis_el2004420262984247049025957803\", ldavis_el2004420262984247049025957803_data);\n",
       "   }(LDAvis);\n",
       "}else if(typeof define === \"function\" && define.amd){\n",
       "   // require.js is available: use it to load d3/LDAvis\n",
       "   require.config({paths: {d3: \"https://d3js.org/d3.v5\"}});\n",
       "   require([\"d3\"], function(d3){\n",
       "      window.d3 = d3;\n",
       "      LDAvis_load_lib(\"https://cdn.jsdelivr.net/gh/bmabey/pyLDAvis@3.4.0/pyLDAvis/js/ldavis.v3.0.0.js\", function(){\n",
       "        new LDAvis(\"#\" + \"ldavis_el2004420262984247049025957803\", ldavis_el2004420262984247049025957803_data);\n",
       "      });\n",
       "    });\n",
       "}else{\n",
       "    // require.js not available: dynamically load d3 & LDAvis\n",
       "    LDAvis_load_lib(\"https://d3js.org/d3.v5.js\", function(){\n",
       "         LDAvis_load_lib(\"https://cdn.jsdelivr.net/gh/bmabey/pyLDAvis@3.4.0/pyLDAvis/js/ldavis.v3.0.0.js\", function(){\n",
       "                 new LDAvis(\"#\" + \"ldavis_el2004420262984247049025957803\", ldavis_el2004420262984247049025957803_data);\n",
       "            })\n",
       "         });\n",
       "}\n",
       "</script>"
      ],
      "text/plain": [
       "PreparedData(topic_coordinates=              x         y  topics  cluster       Freq\n",
       "topic                                                \n",
       "0     -0.090848 -0.033087       1        1  27.305277\n",
       "8     -0.181994 -0.025989       2        1  26.425650\n",
       "9     -0.126526 -0.054107       3        1  14.833830\n",
       "1     -0.037297  0.011106       4        1   7.303474\n",
       "5      0.026508  0.068389       5        1   6.300066\n",
       "6      0.043739  0.076284       6        1   4.550385\n",
       "4      0.155413 -0.189540       7        1   4.170647\n",
       "7      0.078069  0.054793       8        1   3.617928\n",
       "2      0.053587  0.056274       9        1   3.243301\n",
       "3      0.079349  0.035878      10        1   2.249443, topic_info=          Term         Freq        Total Category  logprob  loglift\n",
       "15      vaccin  2018.000000  2018.000000  Default  30.0000  30.0000\n",
       "3        covid  1652.000000  1652.000000  Default  29.0000  29.0000\n",
       "1        child  1566.000000  1566.000000  Default  28.0000  28.0000\n",
       "47       finer   320.000000   320.000000  Default  27.0000  27.0000\n",
       "17         age   183.000000   183.000000  Default  26.0000  26.0000\n",
       "..         ...          ...          ...      ...      ...      ...\n",
       "263   lockdown     1.539267    23.500238  Topic10  -5.8098   1.0688\n",
       "46      approv     1.509766   128.151390  Topic10  -5.8292  -0.6468\n",
       "261      india     1.494708    57.421344  Topic10  -5.8392   0.1460\n",
       "68      school     1.454589   137.600656  Topic10  -5.8664  -0.7551\n",
       "110  communiti     1.452521    38.616985  Topic10  -5.8678   0.5141\n",
       "\n",
       "[611 rows x 6 columns], token_table=      Topic      Freq       Term\n",
       "term                            \n",
       "1647      4  0.893809     abcnew\n",
       "825       1  0.111137     access\n",
       "825       2  0.222273     access\n",
       "825       5  0.222273     access\n",
       "825       8  0.333410     access\n",
       "...     ...       ...        ...\n",
       "1165      1  0.806035  youngster\n",
       "1165      7  0.080604  youngster\n",
       "1165      9  0.080604  youngster\n",
       "1756      4  0.792100      zycov\n",
       "1569      4  0.792097     zycovd\n",
       "\n",
       "[1056 rows x 3 columns], R=30, lambda_step=0.01, plot_opts={'xlab': 'PC1', 'ylab': 'PC2'}, topic_order=[1, 9, 10, 2, 6, 7, 5, 8, 3, 4])"
      ]
     },
     "execution_count": 22,
     "metadata": {},
     "output_type": "execute_result"
    }
   ],
   "source": [
    "#Visu interractive affichant les topics, les mots etc\n",
    "pyLDAvis.enable_notebook()\n",
    "pyLDAvis.gensim_models.prepare(lda_model, bow_corpus, dictionary)"
   ]
  }
 ],
 "metadata": {
  "kernelspec": {
   "display_name": "Python 3",
   "language": "python",
   "name": "python3"
  },
  "language_info": {
   "codemirror_mode": {
    "name": "ipython",
    "version": 3
   },
   "file_extension": ".py",
   "mimetype": "text/x-python",
   "name": "python",
   "nbconvert_exporter": "python",
   "pygments_lexer": "ipython3",
   "version": "3.11.3"
  }
 },
 "nbformat": 4,
 "nbformat_minor": 2
}
